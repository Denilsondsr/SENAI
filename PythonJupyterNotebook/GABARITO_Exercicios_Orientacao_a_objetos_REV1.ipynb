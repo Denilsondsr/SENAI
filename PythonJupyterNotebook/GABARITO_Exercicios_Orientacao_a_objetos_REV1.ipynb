{
 "cells": [
  {
   "cell_type": "markdown",
   "metadata": {
    "id": "CXof86h3x2Gx"
   },
   "source": [
    "# Exercícios : Orientação a Objetos no Python"
   ]
  },
  {
   "cell_type": "markdown",
   "metadata": {
    "id": "s4mG0KoFx2G1"
   },
   "source": [
    "### <b>Exercício 1: Registro de Pacientes</b>\n",
    "\n",
    "Crie uma classe chamada <b>Paciente</b> que represente os pacientes de uma clínica de saúde.\n",
    "\n",
    "- A classe deve ter as seguintes <i>propriedades:</i>\n",
    "\n",
    "  <b>nome:</b> Nome do paciente<br>\n",
    "  <b>idade:</b> Idade do paciente<br>\n",
    "  <b>sexo:</b> Sexo do paciente (masculino/feminino)<br>\n",
    "  <b>historico_medico:</b> Lista que armazena o histórico médico do paciente<br><br>\n",
    "\n",
    "- Além disso, a classe deve ter os seguintes <i>métodos</i>:\n",
    "\n",
    "  <b>adicionar_historico(medico, diagnostico)</b>: Método que adiciona uma entrada ao histórico médico do paciente, contendo o nome do médico e o diagnóstico fornecido.<br>\n",
    "  <b>imprimir_historico()</b>: Método que imprime o histórico médico do paciente."
   ]
  },
  {
   "cell_type": "code",
   "execution_count": 1,
   "metadata": {
    "id": "Pk1_MuKIx2G2"
   },
   "outputs": [
    {
     "name": "stdout",
     "output_type": "stream",
     "text": [
      "Histórico médico de João Silva:\n",
      "1. Médico: Dr. Carlos, Diagnóstico: Gripe\n",
      "2. Médico: Dra. Ana, Diagnóstico: Dor de cabeça\n"
     ]
    }
   ],
   "source": [
    "class Paciente:\n",
    "    def __init__(self, nome, idade, sexo):\n",
    "        # Inicializa as propriedades da classe Paciente\n",
    "        self.nome = nome\n",
    "        self.idade = idade\n",
    "        self.sexo = sexo\n",
    "        self.historico_medico = []  # Inicializa a lista de histórico médico vazia\n",
    "\n",
    "    def adicionar_historico(self, medico, diagnostico):\n",
    "        # Adiciona uma entrada ao histórico médico com o médico e o diagnóstico\n",
    "        entrada = {'medico': medico, 'diagnostico': diagnostico}\n",
    "        self.historico_medico.append(entrada)\n",
    "\n",
    "    def imprimir_historico(self):\n",
    "        # Imprime o histórico médico do paciente\n",
    "        print(f\"Histórico médico de {self.nome}:\")\n",
    "        if not self.historico_medico:\n",
    "            print(\"Não há histórico médico registrado.\")\n",
    "        else:\n",
    "            for idx, entrada in enumerate(self.historico_medico, 1):\n",
    "                print(f\"{idx}. Médico: {entrada['medico']}, Diagnóstico: {entrada['diagnostico']}\")\n",
    "        \n",
    "# Exemplo de uso:\n",
    "# Instanciando a classe Paciente\n",
    "paciente1 = Paciente(\"João Silva\", 35, \"masculino\")\n",
    "\n",
    "# Adicionando entradas ao histórico médico\n",
    "paciente1.adicionar_historico(\"Dr. Carlos\", \"Gripe\")\n",
    "paciente1.adicionar_historico(\"Dra. Ana\", \"Dor de cabeça\")\n",
    "\n",
    "# Imprimindo o histórico médico\n",
    "paciente1.imprimir_historico()\n"
   ]
  },
  {
   "cell_type": "markdown",
   "metadata": {
    "id": "nmGNe_FHx2G2"
   },
   "source": [
    "### <b>Exercício 2: Controle de Equipamentos Médicos</b>\n",
    "\n",
    "Crie uma classe chamada <b>EquipamentoMedico</b> que representa os equipamentos médicos de uma clínica.\n",
    "<br>\n",
    "- A classe deve ter as seguintes <i>propriedades</i>:\n",
    "<br>\n",
    "<b>nome:</b> Nome do equipamento<br>\n",
    "<b>tipo:</b> Tipo de equipamento (ex: \"Raio-X\", \"Tomógrafo\", etc.)<br>\n",
    "<b>status:</b> Status do equipamento: (disponível/manutenção/fora de serviço)<br><br>\n",
    "\n",
    "- Além disso, a classe deve ter os seguintes <i>métodos:</i><br>\n",
    "<b>alterar_status(novo_status)</b>: Método que altera o status do equipamento.<br>\n",
    "<b>verificar_status()</b>: Método que retorna o status atual do equipamento."
   ]
  },
  {
   "cell_type": "code",
   "execution_count": null,
   "metadata": {
    "id": "v4magUQOx2G2"
   },
   "outputs": [],
   "source": [
    "class EquipamentoMedico:\n",
    "    def __init__(self, nome, tipo, status):\n",
    "        # Inicializa as propriedades da classe EquipamentoMedico\n",
    "        self.nome = nome\n",
    "        self.tipo = tipo\n",
    "        self.status = status\n",
    "\n",
    "    def alterar_status(self, novo_status):\n",
    "        # Altera o status do equipamento\n",
    "        self.status = novo_status\n",
    "\n",
    "    def verificar_status(self):\n",
    "        # Retorna o status atual do equipamento\n",
    "        return self.status\n",
    "\n",
    "# Exemplo de uso:\n",
    "equipamento1 = EquipamentoMedico(\"Raio-X\", \"Diagnóstico por imagem\", \"disponível\")\n",
    "\n",
    "# Verificando o status atual\n",
    "print(f\"Status inicial do {equipamento1.nome}: {equipamento1.verificar_status()}\")\n",
    "\n",
    "# Alterando o status\n",
    "equipamento1.alterar_status(\"manutenção\")\n",
    "\n",
    "# Verificando o status após a alteração\n",
    "print(f\"Status atualizado do {equipamento1.nome}: {equipamento1.verificar_status()}\")\n"
   ]
  }
 ],
 "metadata": {
  "colab": {
   "provenance": []
  },
  "kernelspec": {
   "display_name": "Python 3 (ipykernel)",
   "language": "python",
   "name": "python3"
  },
  "language_info": {
   "codemirror_mode": {
    "name": "ipython",
    "version": 3
   },
   "file_extension": ".py",
   "mimetype": "text/x-python",
   "name": "python",
   "nbconvert_exporter": "python",
   "pygments_lexer": "ipython3",
   "version": "3.12.4"
  }
 },
 "nbformat": 4,
 "nbformat_minor": 4
}
