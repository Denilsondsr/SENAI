{
 "cells": [
  {
   "cell_type": "code",
   "execution_count": 1,
   "id": "683e0e64",
   "metadata": {},
   "outputs": [
    {
     "name": "stdout",
     "output_type": "stream",
     "text": [
      "*-*-* Iniciando o Programa *-*-*-\n",
      "*-*-* Finalizando o Programa *-*-*\n"
     ]
    }
   ],
   "source": [
    "def inicio():\n",
    "    print(\"*-*-* Iniciando o Programa *-*-*-\")\n",
    "\n",
    "def fim():\n",
    "    print(\"*-*-* Finalizando o Programa *-*-*\")\n",
    "    \n",
    "\n",
    "inicio()\n",
    "fim()"
   ]
  },
  {
   "cell_type": "code",
   "execution_count": 2,
   "id": "08939232",
   "metadata": {},
   "outputs": [
    {
     "name": "stdout",
     "output_type": "stream",
     "text": [
      "*-*-* Iniciando o Programa *-*-*-\n",
      "*-*-* Finalizando o Programa *-*-*\n"
     ]
    }
   ],
   "source": [
    "inicio()\n",
    "fim()"
   ]
  },
  {
   "cell_type": "code",
   "execution_count": 3,
   "id": "03c74663",
   "metadata": {},
   "outputs": [],
   "source": [
    "def dizerOla(nome):\n",
    "    print(\"Olá, {}\".format(nome))"
   ]
  },
  {
   "cell_type": "code",
   "execution_count": 5,
   "id": "5047998f",
   "metadata": {},
   "outputs": [
    {
     "name": "stdout",
     "output_type": "stream",
     "text": [
      "Seu nome:\n",
      "denilson\n",
      "Olá, denilson\n"
     ]
    }
   ],
   "source": [
    "nome = input(\"Seu nome:\\n\")\n",
    "\n",
    "dizerOla(nome)"
   ]
  }
 ],
 "metadata": {
  "kernelspec": {
   "display_name": "Python 3 (ipykernel)",
   "language": "python",
   "name": "python3"
  },
  "language_info": {
   "codemirror_mode": {
    "name": "ipython",
    "version": 3
   },
   "file_extension": ".py",
   "mimetype": "text/x-python",
   "name": "python",
   "nbconvert_exporter": "python",
   "pygments_lexer": "ipython3",
   "version": "3.12.3"
  }
 },
 "nbformat": 4,
 "nbformat_minor": 5
}
