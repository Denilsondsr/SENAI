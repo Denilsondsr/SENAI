{
 "cells": [
  {
   "cell_type": "markdown",
   "id": "a220e4e2",
   "metadata": {
    "id": "a220e4e2"
   },
   "source": [
    "## **Exercícios  - Metódo .format**"
   ]
  },
  {
   "cell_type": "markdown",
   "id": "737f7ee0",
   "metadata": {
    "id": "737f7ee0"
   },
   "source": [
    "## Crie programas em python para atender as especificações abaixo."
   ]
  },
  {
   "cell_type": "markdown",
   "id": "b9d7d65b",
   "metadata": {
    "id": "b9d7d65b"
   },
   "source": [
    "# 1 - Faça um programa que peça o nome de um país, a capital e o idioma oficial e exiba uma mensagem com essas informações."
   ]
  },
  {
   "cell_type": "code",
   "execution_count": 9,
   "id": "1b62af10",
   "metadata": {
    "id": "1b62af10"
   },
   "outputs": [
    {
     "name": "stdout",
     "output_type": "stream",
     "text": [
      "*** Cadastro ***\n",
      "\n"
     ]
    },
    {
     "name": "stdin",
     "output_type": "stream",
     "text": [
      "Digite o seu país:  Brasil\n",
      "Digite a capital do Brasil:  DF\n",
      "Digite o idiona do Brasil:  PT\n"
     ]
    },
    {
     "name": "stdout",
     "output_type": "stream",
     "text": [
      "\n",
      "As informações do seu País são: \n",
      "País: Brasil \n",
      "Capital: DF \n",
      "Idioma: PT\n"
     ]
    }
   ],
   "source": [
    "print(\"*** Cadastro ***\\n\")\n",
    "pais = input(\"Digite o seu país: \")\n",
    "capital = input(\"Digite a capital do {}: \" .format (pais))\n",
    "idioma = input(\"Digite o idiona do {}: \" .format (pais))\n",
    "\n",
    "print(\"\\nAs informações do seu País são: \\nPaís: {} \\nCapital: {} \\nIdioma: {}\" .format(pais, capital, idioma) )\n",
    "\n"
   ]
  },
  {
   "cell_type": "markdown",
   "id": "1aa984cf",
   "metadata": {
    "id": "1aa984cf"
   },
   "source": [
    "#  6 - Você foi contratado para desenvolver um programa que auxilie um petshop a gerar mensagens personalizadas para seus clientes. O programa deve solicitar algumas informações do cliente e, em seguida, exibir uma mensagem customizada com base nos dados fornecidos.\n",
    "\n",
    "O programa deve conter as seguintes etapas:\n",
    "\n",
    "Solicitar ao usuário que digite seu nome, o nome do seu pet (animal de estimação) e a espécie do pet (por exemplo, cachorro, gato, pássaro, etc.).\n",
    "\n",
    "Em seguida, peça ao usuário que informe a idade do pet em anos.\n",
    "\n",
    "Solicite também ao usuário que informe se o pet já tomou todas as vacinas obrigatórias (responda com \"Sim\" ou \"Não\").\n",
    "\n",
    "Com base nas informações coletadas, o programa deve gerar uma mensagem personalizada para o cliente. A mensagem deve incluir o nome do cliente, o nome do pet, a espécie do pet, sua idade em anos e se já tomou todas as vacinas obrigatórias."
   ]
  },
  {
   "cell_type": "code",
   "execution_count": 27,
   "id": "72c15eff",
   "metadata": {
    "id": "72c15eff"
   },
   "outputs": [
    {
     "name": "stdout",
     "output_type": "stream",
     "text": [
      "*** PetShop da Eskina ***\n",
      "\n"
     ]
    },
    {
     "name": "stdin",
     "output_type": "stream",
     "text": [
      "Digite o nome do(a) Cliente:  Denilson\n",
      "Qual o nome do(a) Pet do(a) Denilson:  D2\n",
      "Qual espécie o(a) D2 se enquadra:  Cachorro\n",
      "Qual a idade do(a) D2 em anos:  10\n",
      "O D2 já tomou todas as vacinas? \n",
      "Responda com Sim ou Não:  Não\n"
     ]
    },
    {
     "name": "stdout",
     "output_type": "stream",
     "text": [
      "O(A) D2 do(a) Espécie Cachorro do(a) Cliente Denilson tem 10 anos e Não, tomou todas as vacinas.\n"
     ]
    }
   ],
   "source": [
    "print(\"*** PetShop da Eskina ***\\n\")\n",
    "nomeCliente = input(\"Digite o nome do(a) Cliente: \")\n",
    "nomePet = input(\"Qual o nome do(a) Pet do(a) {}: \" .format (nomeCliente))\n",
    "especie = input(\"Qual espécie o(a) {} se enquadra: \" .format (nomePet))\n",
    "idadePet = int(input(\"Qual a idade do(a) {} em anos: \".format (nomePet)))\n",
    "vacina = input(\"O {} já tomou todas as vacinas? \\nResponda com Sim ou Não: \" .format(nomePet))\n",
    "\n",
    "print(\"O(A) {} do(a) Espécie {} do(a) Cliente {} tem {} anos e {}, tomou todas as vacinas.\"\n",
    "      .format (nomePet, especie, nomeCliente, idadePet, vacina))\n"
   ]
  },
  {
   "cell_type": "code",
   "execution_count": null,
   "id": "V8yGoItXDAop",
   "metadata": {
    "id": "V8yGoItXDAop"
   },
   "outputs": [],
   "source": []
  }
 ],
 "metadata": {
  "colab": {
   "provenance": []
  },
  "kernelspec": {
   "display_name": "Python 3 (ipykernel)",
   "language": "python",
   "name": "python3"
  },
  "language_info": {
   "codemirror_mode": {
    "name": "ipython",
    "version": 3
   },
   "file_extension": ".py",
   "mimetype": "text/x-python",
   "name": "python",
   "nbconvert_exporter": "python",
   "pygments_lexer": "ipython3",
   "version": "3.12.4"
  }
 },
 "nbformat": 4,
 "nbformat_minor": 5
}
