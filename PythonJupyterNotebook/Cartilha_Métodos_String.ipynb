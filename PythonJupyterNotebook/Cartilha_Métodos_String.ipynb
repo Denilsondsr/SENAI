{
 "cells": [
  {
   "cell_type": "markdown",
   "id": "b229eee8-51f8-4dc0-80ca-23ef7be0f6d2",
   "metadata": {},
   "source": [
    "<h1>\n",
    "    Cartilha - Métodos \n",
    "    Strings\n",
    "</h1>"
   ]
  },
  {
   "cell_type": "code",
   "execution_count": 131,
   "id": "ebcd0e13-11f2-4616-9533-35fdfd578232",
   "metadata": {},
   "outputs": [
    {
     "name": "stdout",
     "output_type": "stream",
     "text": [
      "d\n"
     ]
    }
   ],
   "source": [
    "email = \"denilson@senai.com\"\n",
    "\n",
    "print (email[0])"
   ]
  },
  {
   "cell_type": "code",
   "execution_count": 7,
   "id": "8db336b7-f291-49b7-9ab1-ca7c93be9959",
   "metadata": {},
   "outputs": [
    {
     "name": "stdout",
     "output_type": "stream",
     "text": [
      "denilson@\n"
     ]
    }
   ],
   "source": [
    "print(email [0:9])"
   ]
  },
  {
   "cell_type": "code",
   "execution_count": 9,
   "id": "a5074698-c68c-4f84-91f5-1e5ee809d057",
   "metadata": {},
   "outputs": [
    {
     "name": "stdout",
     "output_type": "stream",
     "text": [
      "18\n"
     ]
    }
   ],
   "source": [
    "print(len(email)) #retorna a quantidade de caracters na string"
   ]
  },
  {
   "cell_type": "code",
   "execution_count": 11,
   "id": "c2f291a3-ee0a-451b-9f88-ba01cfee64a2",
   "metadata": {},
   "outputs": [
    {
     "name": "stdout",
     "output_type": "stream",
     "text": [
      "denilson@\n"
     ]
    }
   ],
   "source": [
    "print(email [:-9]) # Do : ae o meio"
   ]
  },
  {
   "cell_type": "code",
   "execution_count": 13,
   "id": "ada929b9-1a80-4cd7-b22d-1aed8e43d462",
   "metadata": {},
   "outputs": [
    {
     "name": "stdout",
     "output_type": "stream",
     "text": [
      "senai.com\n"
     ]
    }
   ],
   "source": [
    "print(email [-9 :]) # Do negatido até o fim"
   ]
  },
  {
   "cell_type": "code",
   "execution_count": 15,
   "id": "13b456a6-0b09-4a8d-ad88-d91a1be85fd7",
   "metadata": {},
   "outputs": [
    {
     "name": "stdout",
     "output_type": "stream",
     "text": [
      "on@senai.co\n"
     ]
    }
   ],
   "source": [
    "print(email [-12 : -1])"
   ]
  },
  {
   "cell_type": "code",
   "execution_count": 19,
   "id": "5d967f6a-f110-4c15-b3c5-1f01edc3a1a3",
   "metadata": {},
   "outputs": [
    {
     "name": "stdout",
     "output_type": "stream",
     "text": [
      "@senai\n"
     ]
    }
   ],
   "source": [
    "print(email [-10 : -4])"
   ]
  },
  {
   "cell_type": "code",
   "execution_count": 25,
   "id": "03a91478-9a64-409f-a429-3eb60cdabcfa",
   "metadata": {},
   "outputs": [
    {
     "data": {
      "text/plain": [
       "['__add__',\n",
       " '__class__',\n",
       " '__contains__',\n",
       " '__delattr__',\n",
       " '__dir__',\n",
       " '__doc__',\n",
       " '__eq__',\n",
       " '__format__',\n",
       " '__ge__',\n",
       " '__getattribute__',\n",
       " '__getitem__',\n",
       " '__getnewargs__',\n",
       " '__getstate__',\n",
       " '__gt__',\n",
       " '__hash__',\n",
       " '__init__',\n",
       " '__init_subclass__',\n",
       " '__iter__',\n",
       " '__le__',\n",
       " '__len__',\n",
       " '__lt__',\n",
       " '__mod__',\n",
       " '__mul__',\n",
       " '__ne__',\n",
       " '__new__',\n",
       " '__reduce__',\n",
       " '__reduce_ex__',\n",
       " '__repr__',\n",
       " '__rmod__',\n",
       " '__rmul__',\n",
       " '__setattr__',\n",
       " '__sizeof__',\n",
       " '__str__',\n",
       " '__subclasshook__',\n",
       " 'capitalize',\n",
       " 'casefold',\n",
       " 'center',\n",
       " 'count',\n",
       " 'encode',\n",
       " 'endswith',\n",
       " 'expandtabs',\n",
       " 'find',\n",
       " 'format',\n",
       " 'format_map',\n",
       " 'index',\n",
       " 'isalnum',\n",
       " 'isalpha',\n",
       " 'isascii',\n",
       " 'isdecimal',\n",
       " 'isdigit',\n",
       " 'isidentifier',\n",
       " 'islower',\n",
       " 'isnumeric',\n",
       " 'isprintable',\n",
       " 'isspace',\n",
       " 'istitle',\n",
       " 'isupper',\n",
       " 'join',\n",
       " 'ljust',\n",
       " 'lower',\n",
       " 'lstrip',\n",
       " 'maketrans',\n",
       " 'partition',\n",
       " 'removeprefix',\n",
       " 'removesuffix',\n",
       " 'replace',\n",
       " 'rfind',\n",
       " 'rindex',\n",
       " 'rjust',\n",
       " 'rpartition',\n",
       " 'rsplit',\n",
       " 'rstrip',\n",
       " 'split',\n",
       " 'splitlines',\n",
       " 'startswith',\n",
       " 'strip',\n",
       " 'swapcase',\n",
       " 'title',\n",
       " 'translate',\n",
       " 'upper',\n",
       " 'zfill']"
      ]
     },
     "execution_count": 25,
     "metadata": {},
     "output_type": "execute_result"
    }
   ],
   "source": [
    "dir(str)"
   ]
  },
  {
   "cell_type": "code",
   "execution_count": 31,
   "id": "b87e8147-fc78-4a4c-b912-d94d8e63c4bf",
   "metadata": {},
   "outputs": [
    {
     "name": "stdin",
     "output_type": "stream",
     "text": [
      "Digite: Denilson\n"
     ]
    },
    {
     "name": "stdout",
     "output_type": "stream",
     "text": [
      "Seu nome: Denilson\n"
     ]
    }
   ],
   "source": [
    "print(\"Seu nome: {}\" .format(input(\"Digite:\")))"
   ]
  },
  {
   "cell_type": "code",
   "execution_count": 41,
   "id": "9ae192ac-b460-4fed-8f12-a11374342440",
   "metadata": {},
   "outputs": [
    {
     "name": "stdout",
     "output_type": "stream",
     "text": [
      "Denilson\n"
     ]
    }
   ],
   "source": [
    "nome = \"DenilSon\"\n",
    "print(nome.capitalize()) # 1° Letra maiúscula"
   ]
  },
  {
   "cell_type": "code",
   "execution_count": 43,
   "id": "db9a7b14-0cac-4f1a-bf15-4eb6f21be446",
   "metadata": {},
   "outputs": [
    {
     "name": "stdout",
     "output_type": "stream",
     "text": [
      "denilson\n"
     ]
    }
   ],
   "source": [
    "print(nome.casefold()) # Tudo minúsculo"
   ]
  },
  {
   "cell_type": "code",
   "execution_count": 51,
   "id": "4cb05dd9-f291-498c-9f5a-417a6ed17fbe",
   "metadata": {},
   "outputs": [
    {
     "name": "stdout",
     "output_type": "stream",
     "text": [
      "1\n"
     ]
    }
   ],
   "source": [
    "print(email.count('.')) "
   ]
  },
  {
   "cell_type": "code",
   "execution_count": 53,
   "id": "6f3bb78a-cf11-45b9-b7d8-7214e0fcbaeb",
   "metadata": {},
   "outputs": [
    {
     "name": "stdout",
     "output_type": "stream",
     "text": [
      "8\n"
     ]
    }
   ],
   "source": [
    "print(email.find('@'))"
   ]
  },
  {
   "cell_type": "code",
   "execution_count": 1,
   "id": "f3f28010-c11a-4424-b5f5-78d406d3323f",
   "metadata": {},
   "outputs": [],
   "source": [
    "texto = \"denilson santos da rocha\""
   ]
  },
  {
   "cell_type": "code",
   "execution_count": 115,
   "id": "2e577eb3-9ca4-4d0f-8d1a-9fb661a4506f",
   "metadata": {},
   "outputs": [
    {
     "name": "stdout",
     "output_type": "stream",
     "text": [
      "True\n"
     ]
    }
   ],
   "source": [
    "print(texto.isalpha()) # Verifica se é só letras"
   ]
  },
  {
   "cell_type": "code",
   "execution_count": 123,
   "id": "8c342179-9bd7-4464-86d7-dcd6ae4d9899",
   "metadata": {},
   "outputs": [
    {
     "name": "stdout",
     "output_type": "stream",
     "text": [
      "True\n"
     ]
    }
   ],
   "source": [
    "print(texto.isalnum()) #Verifica se tem letras ou números"
   ]
  },
  {
   "cell_type": "code",
   "execution_count": 7,
   "id": "b9721814-e218-4031-b0b9-4c860762bf83",
   "metadata": {},
   "outputs": [
    {
     "name": "stdout",
     "output_type": "stream",
     "text": [
      "False\n"
     ]
    }
   ],
   "source": [
    "print(texto.isnumeric()) # Verifica se é só número"
   ]
  },
  {
   "cell_type": "code",
   "execution_count": 125,
   "id": "5c012133-ad2f-4151-80b6-052691b36a34",
   "metadata": {},
   "outputs": [
    {
     "name": "stdout",
     "output_type": "stream",
     "text": [
      "joao\n"
     ]
    }
   ],
   "source": [
    "print(texto.replace('denilson','joao')) #substitui o texto"
   ]
  },
  {
   "cell_type": "code",
   "execution_count": 135,
   "id": "282117be-af6c-43d8-a5b6-2cd553496ae1",
   "metadata": {},
   "outputs": [
    {
     "name": "stdout",
     "output_type": "stream",
     "text": [
      "['denilson', 'senai.com']\n"
     ]
    }
   ],
   "source": [
    "print(email.split(\"@\"))"
   ]
  },
  {
   "cell_type": "code",
   "execution_count": 141,
   "id": "c62ebcea-479e-4f5a-b17f-231e1ff6a99a",
   "metadata": {},
   "outputs": [
    {
     "name": "stdout",
     "output_type": "stream",
     "text": [
      "                    Denilson\n",
      "\n",
      "                    é noix\n",
      "                    \n",
      "                    \n",
      "               Mano Gui\n"
     ]
    }
   ],
   "source": [
    "print('''                    Denilson\n",
    "\n",
    "                    é noix\n",
    "                    \n",
    "                    \n",
    "               Mano Gui'''     ) # 3 ''' (aspas) mantem a configuração"
   ]
  },
  {
   "cell_type": "code",
   "execution_count": 139,
   "id": "e2ca964c-61e3-47e1-903d-b0bb1ddfeb59",
   "metadata": {},
   "outputs": [
    {
     "name": "stdout",
     "output_type": "stream",
     "text": [
      "Denilson Santos Da Rocha\n"
     ]
    }
   ],
   "source": [
    "print(texto.title()) # Iniciais com letra maiúscula"
   ]
  },
  {
   "cell_type": "code",
   "execution_count": 168,
   "id": "70224605-e302-453e-a452-072751b3d124",
   "metadata": {},
   "outputs": [
    {
     "name": "stdout",
     "output_type": "stream",
     "text": [
      " santos da rocha\n"
     ]
    }
   ],
   "source": [
    "print(texto.strip('denilson')) #retira"
   ]
  },
  {
   "cell_type": "code",
   "execution_count": 170,
   "id": "91164994-f474-452e-845b-b7471efb6401",
   "metadata": {},
   "outputs": [
    {
     "name": "stdout",
     "output_type": "stream",
     "text": [
      "True\n"
     ]
    }
   ],
   "source": [
    "print(texto.startswith('de')) #verifica se inicia"
   ]
  },
  {
   "cell_type": "code",
   "execution_count": 172,
   "id": "135057cb-73c1-4c0c-acf4-9b3776261d7c",
   "metadata": {},
   "outputs": [
    {
     "name": "stdout",
     "output_type": "stream",
     "text": [
      "DENILSON SANTOS DA ROCHA\n"
     ]
    }
   ],
   "source": [
    "print(texto.upper())"
   ]
  },
  {
   "cell_type": "code",
   "execution_count": null,
   "id": "88ef4296-4acb-4884-8e2f-eab4e0b638fc",
   "metadata": {},
   "outputs": [],
   "source": []
  }
 ],
 "metadata": {
  "kernelspec": {
   "display_name": "Python 3 (ipykernel)",
   "language": "python",
   "name": "python3"
  },
  "language_info": {
   "codemirror_mode": {
    "name": "ipython",
    "version": 3
   },
   "file_extension": ".py",
   "mimetype": "text/x-python",
   "name": "python",
   "nbconvert_exporter": "python",
   "pygments_lexer": "ipython3",
   "version": "3.12.4"
  }
 },
 "nbformat": 4,
 "nbformat_minor": 5
}
