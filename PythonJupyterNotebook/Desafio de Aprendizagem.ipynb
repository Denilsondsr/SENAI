{
 "cells": [
  {
   "cell_type": "markdown",
   "id": "3ca3903d",
   "metadata": {
    "id": "3ca3903d"
   },
   "source": [
    "# Desafio de Aprendizagem - Biblioteca SENAI \"Morvan Figueiredo\""
   ]
  },
  {
   "cell_type": "markdown",
   "id": "240591c0",
   "metadata": {
    "id": "240591c0"
   },
   "source": [
    "## Você está encarregado de criar um sistema de gerenciamento de empréstimos de livros, coleta de avaliações de livros pelos alunos e registro de avaliações do atendimento da biblioteca para a Escola SENAI \"Morvan Figueiredo\".\n",
    "## Utilize o programa fornecido abaixo e siga as instruções para realizar as tarefas."
   ]
  },
  {
   "cell_type": "markdown",
   "id": "bdf3496d",
   "metadata": {
    "id": "bdf3496d"
   },
   "source": [
    "### Ao finalizar as tarefas, reflita sobre o processo e explique como o programa demonstra o uso de estruturas de dados, iterações e interações com o usuário para gerenciar empréstimos, avaliações e atendimento da biblioteca."
   ]
  },
  {
   "cell_type": "markdown",
   "id": "0d52d3cd",
   "metadata": {
    "id": "0d52d3cd"
   },
   "source": [
    ".\n",
    ".\n",
    "\n",
    "..\n",
    ".\n",
    ".\n",
    ".\n",
    "..\n",
    ".\n",
    ".\n",
    ".\n",
    ".\n",
    ".\n",
    ".\n",
    "\n",
    ".\n",
    ".\n",
    ".\n",
    "."
   ]
  },
  {
   "cell_type": "markdown",
   "id": "7b451d37",
   "metadata": {
    "id": "7b451d37"
   },
   "source": [
    "### Esse desafio de aprendizagem combina os conceitos que vimos até o momento, como estruturas de controle, manipulação de dicionários, listas e iterações. Ao concluir as tarefas e a reflexão, você estará aplicando diversos aspectos da programação em um cenário realista."
   ]
  },
  {
   "cell_type": "markdown",
   "id": "bd33428b",
   "metadata": {
    "id": "bd33428b"
   },
   "source": [
    "## Tarefas:"
   ]
  },
  {
   "cell_type": "markdown",
   "id": "8ea15f61",
   "metadata": {
    "id": "8ea15f61"
   },
   "source": [
    "## 1 - Registro de Empréstimos:\n",
    "\n",
    "### Registre os empréstimos de livros para os  alunos fictícios da escola.\n",
    "## 2 -  Avaliação de Livros:\n",
    "\n",
    "### Após os empréstimos, simule que os alunos leram os livros e atribua notas de avaliação aos livros emprestados.\n",
    "\n",
    "## 3 - Avaliação do Atendimento da Biblioteca:\n",
    "\n",
    "###  Registre avaliações do atendimento da biblioteca por parte dos alunos.\n",
    "\n",
    "## 4 - Imprimir Relatório:\n",
    "\n",
    "### Após realizar as ações anteriores, imprima um relatório que apresente as informações sobre os empréstimos, avaliações dos livros e a média das avaliações do atendimento da biblioteca.\n"
   ]
  },
  {
   "cell_type": "code",
   "execution_count": 119,
   "id": "e2b41de2",
   "metadata": {
    "id": "e2b41de2"
   },
   "outputs": [],
   "source": [
    " livros = []"
   ]
  },
  {
   "cell_type": "code",
   "execution_count": 120,
   "id": "20902014",
   "metadata": {},
   "outputs": [],
   "source": [
    "def cadastrarLivros():    \n",
    "    print(\"Cadastre o livro:\")\n",
    "    nomeLivro = input(\"Digite o nome do livro:\\n\")\n",
    "    autorLivro = input(\"Digite o autor do livro {} :\\n\".format(nomeLivro))\n",
    "    livros.append({'livro' : nomeLivro, 'autor' : autorLivro})  "
   ]
  },
  {
   "cell_type": "code",
   "execution_count": 132,
   "id": "7396d8db",
   "metadata": {
    "id": "7396d8db"
   },
   "outputs": [],
   "source": [
    "def imprimirLivros():\n",
    "    for livro in livros:\n",
    "        print(livro)"
   ]
  },
  {
   "cell_type": "code",
   "execution_count": 128,
   "id": "c24c5096",
   "metadata": {
    "id": "c24c5096"
   },
   "outputs": [
    {
     "name": "stdout",
     "output_type": "stream",
     "text": [
      "Cadastre o livro:\n",
      "Digite o nome do livro:\n",
      "CSS\n",
      "Digite o autor do livro CSS :\n",
      "Pererira\n"
     ]
    }
   ],
   "source": [
    "cadastrarLivros()"
   ]
  },
  {
   "cell_type": "code",
   "execution_count": 133,
   "id": "2b21aa21",
   "metadata": {
    "id": "2b21aa21"
   },
   "outputs": [
    {
     "name": "stdout",
     "output_type": "stream",
     "text": [
      "{'livro': 'CSS', 'autor': 'Pererira'}\n"
     ]
    }
   ],
   "source": [
    "imprimirLivros()"
   ]
  },
  {
   "cell_type": "code",
   "execution_count": null,
   "id": "6164b647",
   "metadata": {},
   "outputs": [],
   "source": []
  },
  {
   "cell_type": "code",
   "execution_count": null,
   "id": "b0d21b3c",
   "metadata": {},
   "outputs": [],
   "source": []
  },
  {
   "cell_type": "code",
   "execution_count": null,
   "id": "e18f103b",
   "metadata": {},
   "outputs": [],
   "source": []
  },
  {
   "cell_type": "code",
   "execution_count": null,
   "id": "e083b92d",
   "metadata": {},
   "outputs": [],
   "source": []
  },
  {
   "cell_type": "code",
   "execution_count": null,
   "id": "42c5d2bb",
   "metadata": {},
   "outputs": [],
   "source": []
  },
  {
   "cell_type": "code",
   "execution_count": null,
   "id": "0bbddd8b",
   "metadata": {},
   "outputs": [],
   "source": []
  }
 ],
 "metadata": {
  "colab": {
   "provenance": []
  },
  "kernelspec": {
   "display_name": "Python 3 (ipykernel)",
   "language": "python",
   "name": "python3"
  },
  "language_info": {
   "codemirror_mode": {
    "name": "ipython",
    "version": 3
   },
   "file_extension": ".py",
   "mimetype": "text/x-python",
   "name": "python",
   "nbconvert_exporter": "python",
   "pygments_lexer": "ipython3",
   "version": "3.12.3"
  }
 },
 "nbformat": 4,
 "nbformat_minor": 5
}
