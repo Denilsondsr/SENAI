{
 "cells": [
  {
   "cell_type": "markdown",
   "id": "9b7a1e5c-3148-4797-b4d2-6f46ed33753d",
   "metadata": {},
   "source": [
    "<h1> Exercício Python</h1>"
   ]
  },
  {
   "cell_type": "code",
   "execution_count": 14,
   "id": "ed4f33b9-9cb7-4599-b1aa-6afcaa9327a0",
   "metadata": {},
   "outputs": [
    {
     "name": "stdout",
     "output_type": "stream",
     "text": [
      "Olá Mundo\n"
     ]
    }
   ],
   "source": [
    "# Célula Python com #Hashtag\n",
    "print(\"Olá Mundo\")"
   ]
  },
  {
   "cell_type": "markdown",
   "id": "58cd40b2-4843-4ea5-a2e1-312c1c25387a",
   "metadata": {},
   "source": [
    "### Exemplos: Imprimindo textos"
   ]
  },
  {
   "cell_type": "code",
   "execution_count": 35,
   "id": "e3a5fd87-98c1-4a02-8bb7-770aa343f243",
   "metadata": {},
   "outputs": [
    {
     "name": "stdout",
     "output_type": "stream",
     "text": [
      "Denilson\n",
      "\n",
      "\n",
      "Mano Gui\n"
     ]
    }
   ],
   "source": [
    "print(\"Denilson\")\n",
    "print(\"\\n\")\n",
    "print(\"Mano Gui\")"
   ]
  },
  {
   "cell_type": "markdown",
   "id": "16e2b979-c0a5-468f-873a-dc6d3cbe8fa5",
   "metadata": {},
   "source": [
    "## Concatenando Textos"
   ]
  },
  {
   "cell_type": "code",
   "execution_count": 27,
   "id": "dd0f9d5f-315a-4623-919e-0118890b87ba",
   "metadata": {},
   "outputs": [
    {
     "name": "stdout",
     "output_type": "stream",
     "text": [
      "Denilson Santos da Rocha\n"
     ]
    }
   ],
   "source": [
    "print(\"Denilson \" + \"Santos \" + \"da \" + \"Rocha\")"
   ]
  },
  {
   "cell_type": "code",
   "execution_count": 38,
   "id": "4742516d-73c3-47e5-a396-4f4cb386d606",
   "metadata": {},
   "outputs": [
    {
     "name": "stdout",
     "output_type": "stream",
     "text": [
      "Nome: Denilson Idade: 26 CPF: 123.456.789-98\n"
     ]
    }
   ],
   "source": [
    "print(\"Nome: Denilson \" + \"Idade: 26 \" + \"CPF: 123.456.789-98\") "
   ]
  },
  {
   "cell_type": "code",
   "execution_count": 46,
   "id": "9481a42a-3ab1-4e6d-b780-baf862f5f70c",
   "metadata": {},
   "outputs": [
    {
     "name": "stdout",
     "output_type": "stream",
     "text": [
      "Nome: Denilson \n",
      "Idade: 26 \n",
      "CPF: 123.456.789-10\n"
     ]
    }
   ],
   "source": [
    "print(\"Nome: Denilson \" + \"\\n\" + \"Idade: 26 \" + \"\\n\" + \"CPF: 123.456.789-10\") "
   ]
  },
  {
   "cell_type": "code",
   "execution_count": 58,
   "id": "6dd4dfba-e2a1-43a1-bcb5-e38cc409c2b8",
   "metadata": {},
   "outputs": [
    {
     "name": "stdout",
     "output_type": "stream",
     "text": [
      "Nome: Denilson \n",
      "Idade: 26 \n",
      "CPF: 123.456.789-10\n"
     ]
    }
   ],
   "source": [
    "print(\"Nome: Denilson \\nIdade: 26 \\nCPF: 123.456.789-10\")"
   ]
  },
  {
   "cell_type": "markdown",
   "id": "41fb8cb5-f149-4f0b-a032-7941325a6025",
   "metadata": {},
   "source": [
    "<h3>Números</h3>"
   ]
  },
  {
   "cell_type": "code",
   "execution_count": 14,
   "id": "dd50cb77-cbcc-4abc-9b50-467fc3d3d4a4",
   "metadata": {},
   "outputs": [
    {
     "name": "stdout",
     "output_type": "stream",
     "text": [
      "11112222\n"
     ]
    }
   ],
   "source": [
    "print(\"1111\"+\"2222\")"
   ]
  },
  {
   "cell_type": "code",
   "execution_count": 16,
   "id": "d7825767-1043-4673-ac01-c445de7b892f",
   "metadata": {},
   "outputs": [
    {
     "name": "stdout",
     "output_type": "stream",
     "text": [
      "3333\n"
     ]
    }
   ],
   "source": [
    "print(1111+2222)"
   ]
  },
  {
   "cell_type": "code",
   "execution_count": 18,
   "id": "59c017d0-cc6e-4f07-b891-0a5a87e4285a",
   "metadata": {},
   "outputs": [
    {
     "ename": "TypeError",
     "evalue": "can only concatenate str (not \"int\") to str",
     "output_type": "error",
     "traceback": [
      "\u001b[1;31m---------------------------------------------------------------------------\u001b[0m",
      "\u001b[1;31mTypeError\u001b[0m                                 Traceback (most recent call last)",
      "Cell \u001b[1;32mIn[18], line 1\u001b[0m\n\u001b[1;32m----> 1\u001b[0m \u001b[38;5;28mprint\u001b[39m(\u001b[38;5;124m\"\u001b[39m\u001b[38;5;124m1\u001b[39m\u001b[38;5;124m\"\u001b[39m \u001b[38;5;241m+\u001b[39m \u001b[38;5;241m1\u001b[39m)\n",
      "\u001b[1;31mTypeError\u001b[0m: can only concatenate str (not \"int\") to str"
     ]
    }
   ],
   "source": [
    "print(\"1\" + 1)"
   ]
  },
  {
   "cell_type": "code",
   "execution_count": 20,
   "id": "d8de6d6b-2a37-4b40-b22a-ee5d0077ca87",
   "metadata": {},
   "outputs": [
    {
     "name": "stdout",
     "output_type": "stream",
     "text": [
      "11\n"
     ]
    }
   ],
   "source": [
    "print(\"1\" + str(1)) # Converter em String temporiamente método str()"
   ]
  },
  {
   "cell_type": "code",
   "execution_count": 24,
   "id": "8dd9db3a-b129-42e1-a9b1-4baa781ad278",
   "metadata": {},
   "outputs": [
    {
     "name": "stdout",
     "output_type": "stream",
     "text": [
      "2\n"
     ]
    }
   ],
   "source": [
    "print (1 + int (\"1\"))"
   ]
  },
  {
   "cell_type": "code",
   "execution_count": 26,
   "id": "0cdaa179-7acd-4427-935f-7e982b372bad",
   "metadata": {},
   "outputs": [
    {
     "name": "stdout",
     "output_type": "stream",
     "text": [
      "11.0\n"
     ]
    }
   ],
   "source": [
    "print (10.5 + 0.5) #float - decimal"
   ]
  },
  {
   "cell_type": "code",
   "execution_count": 30,
   "id": "28083fde-15c6-4fcd-ae88-1dbea85edca9",
   "metadata": {},
   "outputs": [
    {
     "name": "stdout",
     "output_type": "stream",
     "text": [
      "4.0\n"
     ]
    }
   ],
   "source": [
    "print (2.0 + 2) # float"
   ]
  },
  {
   "cell_type": "code",
   "execution_count": 28,
   "id": "d0555e01-a71d-4d5e-814b-45008b953781",
   "metadata": {},
   "outputs": [
    {
     "name": "stdout",
     "output_type": "stream",
     "text": [
      "4\n"
     ]
    }
   ],
   "source": [
    "print(int(2.0+2)) "
   ]
  },
  {
   "cell_type": "markdown",
   "id": "0be67e60-22b5-486c-8e48-72bc9fdf0593",
   "metadata": {},
   "source": [
    "<h1>\n",
    "    Continuação Aula - 19/09\n",
    "</h1>"
   ]
  },
  {
   "cell_type": "markdown",
   "id": "33ce62bc-51d7-4bbb-90e2-c05166ba8fa8",
   "metadata": {},
   "source": [
    "<h2>\n",
    "    Uso do in - ele verifica se um trecho está dentro de uma string\n",
    "\n",
    "</h2>"
   ]
  },
  {
   "cell_type": "code",
   "execution_count": 4,
   "id": "2385b7fa-578a-4462-b7a9-8b03bbfbd1d8",
   "metadata": {},
   "outputs": [
    {
     "data": {
      "text/plain": [
       "False"
      ]
     },
     "execution_count": 4,
     "metadata": {},
     "output_type": "execute_result"
    }
   ],
   "source": [
    "\"A\" in \"Denilson\""
   ]
  },
  {
   "cell_type": "code",
   "execution_count": 6,
   "id": "d572470b-3853-47bb-95e7-88dddeaf41b8",
   "metadata": {},
   "outputs": [
    {
     "data": {
      "text/plain": [
       "False"
      ]
     },
     "execution_count": 6,
     "metadata": {},
     "output_type": "execute_result"
    }
   ],
   "source": [
    "\"d\" in \"Denilson\""
   ]
  },
  {
   "cell_type": "code",
   "execution_count": 8,
   "id": "fa126473-ada4-4152-830c-6ecc02e65756",
   "metadata": {},
   "outputs": [
    {
     "data": {
      "text/plain": [
       "True"
      ]
     },
     "execution_count": 8,
     "metadata": {},
     "output_type": "execute_result"
    }
   ],
   "source": [
    "\"D\" in \"Denilson\""
   ]
  },
  {
   "cell_type": "markdown",
   "id": "1c22ee15-3739-46f9-bb4b-f40517c62ce8",
   "metadata": {},
   "source": [
    "<h2>\n",
    "    Variáveis\n",
    "</h2>"
   ]
  },
  {
   "cell_type": "code",
   "execution_count": 13,
   "id": "42e7f964-3ffb-4aae-aae2-16ec02dc6819",
   "metadata": {},
   "outputs": [
    {
     "name": "stdout",
     "output_type": "stream",
     "text": [
      "Denilson\n",
      "123.456.789-10\n"
     ]
    }
   ],
   "source": [
    "nomeCliente = \"Denilson\"\n",
    "cpfCliente = \"123.456.789-10\"\n",
    "print(nomeCliente)\n",
    "print (cpfCliente)\n",
    "     "
   ]
  },
  {
   "cell_type": "code",
   "execution_count": 15,
   "id": "986edcfa-4577-4e3c-8d79-8e582b547657",
   "metadata": {},
   "outputs": [
    {
     "name": "stdout",
     "output_type": "stream",
     "text": [
      "9.5\n"
     ]
    }
   ],
   "source": [
    "nota1 = 10\n",
    "nota2 = 9.5\n",
    "nota3 = 9\n",
    "media = ((nota1 + nota2 + nota3)/3)\n",
    "print(media)"
   ]
  },
  {
   "cell_type": "code",
   "execution_count": 23,
   "id": "dafed54b-0fbb-4a74-b307-0efbc58a0f53",
   "metadata": {},
   "outputs": [],
   "source": [
    "faturamento = 150\n",
    "custo = 30"
   ]
  },
  {
   "cell_type": "code",
   "execution_count": 25,
   "id": "a3d7f7d6-d180-423d-87df-9a020aa96169",
   "metadata": {},
   "outputs": [
    {
     "name": "stdout",
     "output_type": "stream",
     "text": [
      "120\n"
     ]
    }
   ],
   "source": [
    "lucro = faturamento - custo\n",
    "print (lucro)"
   ]
  },
  {
   "cell_type": "markdown",
   "id": "bfcc113a-5ea6-4dac-ae1a-2587f32e9cc6",
   "metadata": {},
   "source": [
    "<h2>\n",
    "    Input: receber entrada de dados pelo usuário\n",
    "</h2>"
   ]
  },
  {
   "cell_type": "code",
   "execution_count": 30,
   "id": "083bc58f-9654-4c10-92f7-76e16067a58a",
   "metadata": {},
   "outputs": [
    {
     "name": "stdin",
     "output_type": "stream",
     "text": [
      "Qual seu nome? Denilson\n"
     ]
    },
    {
     "data": {
      "text/plain": [
       "'Denilson'"
      ]
     },
     "execution_count": 30,
     "metadata": {},
     "output_type": "execute_result"
    }
   ],
   "source": [
    "input(\"Qual seu nome?\")"
   ]
  },
  {
   "cell_type": "code",
   "execution_count": 36,
   "id": "0b8a4796-7011-4e4d-8f80-2355c546b855",
   "metadata": {},
   "outputs": [
    {
     "name": "stdout",
     "output_type": "stream",
     "text": [
      "8.65\n"
     ]
    }
   ],
   "source": [
    "numeroQualquer = 8.65465135168\n",
    "\n",
    "numeroArredondadoComDuasCasas = round (numeroQualquer , 2)\n",
    "print(numeroArredondadoComDuasCasas)"
   ]
  },
  {
   "cell_type": "code",
   "execution_count": 44,
   "id": "10ca93db-b626-4eea-9a3e-fc4538575678",
   "metadata": {},
   "outputs": [
    {
     "name": "stdout",
     "output_type": "stream",
     "text": [
      "** Cadastro de Fornecedor **\n"
     ]
    },
    {
     "name": "stdin",
     "output_type": "stream",
     "text": [
      "Digite o código do fornecedor:  123\n",
      "Digite o nome do fornecedor:  123\n",
      "Digite o CNPJ do fornecedor:  123\n"
     ]
    },
    {
     "name": "stdout",
     "output_type": "stream",
     "text": [
      "\n",
      "***Fornecedor Cadastrado com Sucesso!*** \n",
      "Código: 123 \n",
      "Nome:  123 \n",
      "CNPJ:  123\n"
     ]
    }
   ],
   "source": [
    "print(\"** Cadastro de Fornecedor **\")\n",
    "codigoFornecedor = input(\"Digite o código do fornecedor: \")\n",
    "nomeFornecedor = input(\"Digite o nome do fornecedor: \")\n",
    "cnpjFornecedor = input(\"Digite o CNPJ do fornecedor: \")\n",
    "\n",
    "print(\"\\n***Fornecedor Cadastrado com Sucesso!*** \\nCódigo:\", codigoFornecedor, \"\\nNome: \", nomeFornecedor, \"\\nCNPJ: \", cnpjFornecedor)"
   ]
  },
  {
   "cell_type": "markdown",
   "id": "83fa4418-96c6-4fb5-9eca-6bad7d28e1fb",
   "metadata": {},
   "source": [
    "<h1>\n",
    "    IF\n",
    "</h1>"
   ]
  },
  {
   "cell_type": "code",
   "execution_count": 9,
   "id": "0672f733-0705-4a65-a252-0d0f6b18e06c",
   "metadata": {},
   "outputs": [
    {
     "name": "stdout",
     "output_type": "stream",
     "text": [
      "*** Faça a média das Notas ***\n"
     ]
    },
    {
     "name": "stdin",
     "output_type": "stream",
     "text": [
      "Digite a 1° nota: \n",
      " 10\n",
      "Digite a 2° nota: \n",
      " 10\n",
      "Digite a 3° nota: \n",
      " 10\n"
     ]
    },
    {
     "name": "stdout",
     "output_type": "stream",
     "text": [
      "\n",
      "A média das notas é: 10.0\n",
      "\n",
      "Aprovado\n"
     ]
    }
   ],
   "source": [
    "print(\"*** Faça a média das Notas ***\")\n",
    "\n",
    "n1 = int(input(\"Digite a 1° nota: \\n\"))\n",
    "n2 = int(input(\"Digite a 2° nota: \\n\"))\n",
    "n3 = int(input(\"Digite a 3° nota: \\n\"))\n",
    "\n",
    "media = ((n1 + n2 + n3) / 3)\n",
    "\n",
    "print(\"\\nA média das notas é: {}\\n\". format (media))\n",
    "\n",
    "if media>=7:\n",
    "    print(\"Aprovado\")\n",
    "else:\n",
    "    print(\"Reprovado\")\n",
    "\n"
   ]
  },
  {
   "cell_type": "code",
   "execution_count": 15,
   "id": "ada64a26-f609-4117-b471-50353e80c98f",
   "metadata": {},
   "outputs": [
    {
     "name": "stdout",
     "output_type": "stream",
     "text": [
      "*** Faça a média das Notas ***\n"
     ]
    },
    {
     "name": "stdin",
     "output_type": "stream",
     "text": [
      "Digite a 1° nota: \n",
      " 4\n",
      "Digite a 2° nota: \n",
      " 4\n",
      "Digite a 3° nota: \n",
      " 4\n"
     ]
    },
    {
     "name": "stdout",
     "output_type": "stream",
     "text": [
      "\n",
      "A média das notas é: 4.0\n",
      "\n",
      "Reprovado\n"
     ]
    }
   ],
   "source": [
    "print(\"*** Faça a média das Notas ***\")\n",
    "\n",
    "n1 = int(input(\"Digite a 1° nota: \\n\"))\n",
    "n2 = int(input(\"Digite a 2° nota: \\n\"))\n",
    "n3 = int(input(\"Digite a 3° nota: \\n\"))\n",
    "\n",
    "media = ((n1 + n2 + n3) / 3)\n",
    "\n",
    "print(\"\\nA média das notas é: {}\\n\". format (media))\n",
    "\n",
    "if media>=7:\n",
    "    print(\"Aprovado\")\n",
    "else:\n",
    "    if media<5:\n",
    "        print(\"Reprovado\")\n",
    "    else:\n",
    "        print(\"Recuperação\")"
   ]
  },
  {
   "cell_type": "code",
   "execution_count": 25,
   "id": "76f6bc0f-79dc-40bd-8430-c6c4caead95c",
   "metadata": {},
   "outputs": [
    {
     "name": "stdout",
     "output_type": "stream",
     "text": [
      "*** Faça a média das Notas ***\n"
     ]
    },
    {
     "name": "stdin",
     "output_type": "stream",
     "text": [
      "Digite a 1° nota: \n",
      " 4\n",
      "Digite a 2° nota: \n",
      " 4\n",
      "Digite a 3° nota: \n",
      " 4\n"
     ]
    },
    {
     "name": "stdout",
     "output_type": "stream",
     "text": [
      "\n",
      "A média das notas é: 4.0\n",
      "\n",
      "Reprovado\n"
     ]
    }
   ],
   "source": [
    "print(\"*** Faça a média das Notas ***\")\n",
    "\n",
    "n1 = int(input(\"Digite a 1° nota: \\n\"))\n",
    "n2 = int(input(\"Digite a 2° nota: \\n\"))\n",
    "n3 = int(input(\"Digite a 3° nota: \\n\"))\n",
    "\n",
    "media = ((n1 + n2 + n3) / 3)\n",
    "\n",
    "print(\"\\nA média das notas é: {}\\n\". format (media))\n",
    "\n",
    "if media>=7:\n",
    "    print(\"Aprovado\")\n",
    "else:\n",
    "    if media<7 and media >=5:\n",
    "        print(\"Recuperação\")\n",
    "    print(\"Reprovado\")"
   ]
  },
  {
   "cell_type": "markdown",
   "id": "d3be26bb-cba9-4db9-8ce5-2ebf7f179220",
   "metadata": {},
   "source": [
    "<h1>\n",
    "    elif\n",
    "</h1>"
   ]
  },
  {
   "cell_type": "code",
   "execution_count": 46,
   "id": "1ac3d22e-f5fa-452f-ab41-3ed68001ea75",
   "metadata": {},
   "outputs": [
    {
     "name": "stdout",
     "output_type": "stream",
     "text": [
      "*** Faça a média das Notas ***\n"
     ]
    },
    {
     "name": "stdin",
     "output_type": "stream",
     "text": [
      "Digite a 1° nota: \n",
      " 6\n",
      "Digite a 2° nota: \n",
      " 6\n",
      "Digite a 3° nota: \n",
      " 6\n"
     ]
    },
    {
     "name": "stdout",
     "output_type": "stream",
     "text": [
      "\n",
      "A média das notas é: 6.0\n",
      "\n",
      "Recuperação\n"
     ]
    }
   ],
   "source": [
    "print(\"*** Faça a média das Notas ***\")\n",
    "\n",
    "n1 = int(input(\"Digite a 1° nota: \\n\"))\n",
    "n2 = int(input(\"Digite a 2° nota: \\n\"))\n",
    "n3 = int(input(\"Digite a 3° nota: \\n\"))\n",
    "\n",
    "media = ((n1 + n2 + n3) / 3)\n",
    "\n",
    "print(\"\\nA média das notas é: {}\\n\". format (media))\n",
    "\n",
    "if media >= 7:\n",
    "    print(\"Aprovado\")\n",
    "elif media <= 5:\n",
    "    print(\"Reprovado\")\n",
    "else:\n",
    "    print(\"Recuperação\")\n",
    "    "
   ]
  },
  {
   "cell_type": "code",
   "execution_count": 82,
   "id": "01068e7b-7c40-4f17-9b4b-5ae0c2bf739f",
   "metadata": {},
   "outputs": [
    {
     "name": "stdout",
     "output_type": "stream",
     "text": [
      "*** Faça a média das Notas ***\n"
     ]
    },
    {
     "name": "stdin",
     "output_type": "stream",
     "text": [
      "Digite a 1° nota: \n",
      " 4\n",
      "Digite a 2° nota: \n",
      " 4\n",
      "Digite a 3° nota: \n",
      " 4\n"
     ]
    },
    {
     "name": "stdout",
     "output_type": "stream",
     "text": [
      "\n",
      "A média das notas é: 4.0\n",
      "\n",
      "Recuperação\n"
     ]
    }
   ],
   "source": [
    "print(\"*** Faça a média das Notas ***\")\n",
    "\n",
    "n1 = float(input(\"Digite a 1° nota: \\n\"))\n",
    "n2 = float(input(\"Digite a 2° nota: \\n\"))\n",
    "n3 = float(input(\"Digite a 3° nota: \\n\"))\n",
    "\n",
    "media = ((n1 + n2 + n3) / 3)\n",
    "\n",
    "print(\"\\nA média das notas é: {}\\n\". format (media))\n",
    "\n",
    "if media >= 7:\n",
    "    print(\"Aprovado\")\n",
    "elif media < 7 and media >=5:\n",
    "    print(\"Trabalho\")\n",
    "elif media <5 and media >=4:\n",
    "    print(\"Recuperação\")\n",
    "else:\n",
    "    print(\"Reprovado\")"
   ]
  },
  {
   "cell_type": "code",
   "execution_count": null,
   "id": "3a1b3391-b974-44eb-9f4d-2ce5c1b261d8",
   "metadata": {},
   "outputs": [],
   "source": []
  }
 ],
 "metadata": {
  "kernelspec": {
   "display_name": "Python 3 (ipykernel)",
   "language": "python",
   "name": "python3"
  },
  "language_info": {
   "codemirror_mode": {
    "name": "ipython",
    "version": 3
   },
   "file_extension": ".py",
   "mimetype": "text/x-python",
   "name": "python",
   "nbconvert_exporter": "python",
   "pygments_lexer": "ipython3",
   "version": "3.12.4"
  }
 },
 "nbformat": 4,
 "nbformat_minor": 5
}
