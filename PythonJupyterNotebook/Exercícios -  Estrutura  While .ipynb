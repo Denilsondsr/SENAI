{
 "cells": [
  {
   "cell_type": "code",
   "execution_count": 105,
   "id": "uwj102UAgJrp",
   "metadata": {
    "colab": {
     "base_uri": "https://localhost:8080/",
     "height": 254
    },
    "executionInfo": {
     "elapsed": 9,
     "status": "error",
     "timestamp": 1691437504030,
     "user": {
      "displayName": "Johnny Braga",
      "userId": "03578342034079492651"
     },
     "user_tz": 180
    },
    "id": "uwj102UAgJrp",
    "outputId": "3da8ef61-72f9-464f-bbed-a9ce2d9155e6"
   },
   "outputs": [
    {
     "name": "stdout",
     "output_type": "stream",
     "text": [
      "maria  a meta de vendas: 250\n",
      "mara  a meta de vendas: 330\n",
      "joão  a meta de vendas: 440\n",
      "silva  a meta de vendas: 540\n",
      "santos  a meta de vendas: 350\n",
      "mario  a meta de vendas: 250\n",
      "carlos  a meta de vendas: 368\n"
     ]
    }
   ],
   "source": [
    "venda = [250,330,440,540,350,250,368,40,250,30,30,]\n",
    "\n",
    "vendedores =[\"maria\",\"mara\",\"joão\",\"silva\",\"santos\",\"mario\",\"carlos\",\"marly\",\"xuxa\",\"chica\",\"zinha\"]\n",
    "\n",
    "meta = 50\n",
    "i= 0\n",
    "while venda[i] > meta:\n",
    "    print('{}  a meta de vendas: {}'.format(vendedores[i], venda[i]))\n",
    "    i+=1"
   ]
  },
  {
   "cell_type": "markdown",
   "id": "39f9a7fb",
   "metadata": {
    "id": "39f9a7fb"
   },
   "source": [
    "# Desafios de Treinamento em Python com o Loop While\n",
    "\n",
    "\n",
    "\n",
    "#### \"Desafios de Treinamento em Python com o Loop While\"! Você está prestes a embarcar em uma jornada emocionante para aprimorar suas habilidades de programação usando a linguagem Python. Os exercícios que apresentamos aqui foram projetados para proporcionar a você uma compreensão sólida e prática do loop while, uma ferramenta poderosa que permite que seu código execute repetidamente enquanto uma condição for verdadeira.\n",
    "\n",
    "#### À medida que você trabalha nesses exercícios, você estará mergulhando em situações do mundo real, resolvendo problemas e construindo soluções criativas usando o loop while. Essa é uma oportunidade incrível para fortalecer sua lógica de programação e sua capacidade de transformar conceitos abstratos em código funcional.\n",
    "\n",
    "##### Cada exercício apresenta uma situação desafiadora que requer o uso eficaz do loop while. Ao enfrentar esses desafios, você não apenas dominará os aspectos técnicos da linguagem Python, mas também desenvolverá uma abordagem analítica para resolver problemas complexos de maneira iterativa e estruturada.\n",
    "\n",
    "#### Lembre-se de que a prática é fundamental para aprimorar suas habilidades. Reserve um tempo para entender completamente cada exercício, experimentar diferentes abordagens e testar suas soluções. Se encontrar dificuldades, não hesite em pesquisar documentações, tutoriais e recursos online para obter insights adicionais."
   ]
  },
  {
   "cell_type": "code",
   "execution_count": null,
   "id": "MagDtXJ5iR4Z",
   "metadata": {
    "colab": {
     "base_uri": "https://localhost:8080/"
    },
    "executionInfo": {
     "elapsed": 317,
     "status": "ok",
     "timestamp": 1691437576461,
     "user": {
      "displayName": "Johnny Braga",
      "userId": "03578342034079492651"
     },
     "user_tz": 180
    },
    "id": "MagDtXJ5iR4Z",
    "outputId": "0ae28f56-c6a1-45b7-d17b-c061dfc8f1a3"
   },
   "outputs": [
    {
     "name": "stdout",
     "output_type": "stream",
     "text": [
      "maria atingiu a meta de vendas: 250\n",
      "mara atingiu a meta de vendas: 330\n",
      "joão atingiu a meta de vendas: 440\n",
      "silva atingiu a meta de vendas: 540\n",
      "santos atingiu a meta de vendas: 350\n",
      "mario atingiu a meta de vendas: 250\n",
      "carlos atingiu a meta de vendas: 368\n",
      "xuxa atingiu a meta de vendas: 250\n"
     ]
    }
   ],
   "source": [
    "venda = [250, 330, 440, 540, 350, 250, 368, 40, 250, 30, 30]\n",
    "vendedores = ['maria', 'mara', 'joão', 'silva', 'santos', 'mario', 'carlos', 'marly', 'xuxa', 'chica', 'zinha']\n",
    "meta = 50\n",
    "\n",
    "i = 0\n",
    "\n",
    "while i < len(venda):\n",
    "    if venda[i] >= meta:\n",
    "        print('{} atingiu a meta de vendas: {}'.format(vendedores[i], venda[i]))\n",
    "    i += 1\n"
   ]
  },
  {
   "cell_type": "markdown",
   "id": "cb724eb6",
   "metadata": {
    "id": "cb724eb6"
   },
   "source": [
    "## Exercício 1: Contagem regressiva\n",
    "Situação Problema: Você está lançando um foguete espacial e deseja fazer uma contagem regressiva a partir de 10 até o lançamento. Escreva um programa que imprima os números de 30 a 1, indicando a contagem regressiva.\n",
    "\n"
   ]
  },
  {
   "cell_type": "code",
   "execution_count": 15,
   "id": "dca60fff",
   "metadata": {
    "id": "dca60fff"
   },
   "outputs": [
    {
     "name": "stdout",
     "output_type": "stream",
     "text": [
      "30\n",
      "29\n",
      "28\n",
      "27\n",
      "26\n",
      "25\n",
      "24\n",
      "23\n",
      "22\n",
      "21\n",
      "20\n",
      "19\n",
      "18\n",
      "17\n",
      "16\n",
      "15\n",
      "14\n",
      "13\n",
      "12\n",
      "11\n",
      "10\n",
      "9\n",
      "8\n",
      "7\n",
      "6\n",
      "5\n",
      "4\n",
      "3\n",
      "2\n",
      "1\n"
     ]
    }
   ],
   "source": [
    "i = 30\n",
    "while i > 0:\n",
    "    print(i)\n",
    "    i-=1"
   ]
  },
  {
   "cell_type": "markdown",
   "id": "59c8b30f",
   "metadata": {
    "id": "59c8b30f"
   },
   "source": [
    "### Exercício 2: Soma até certo limite\n",
    "Situação Problema: Você está jogando um jogo em que precisa somar números inteiros sequencialmente até que a soma ultrapasse 20. Escreva um programa que calcule e exiba a soma desses números.\n",
    "\n"
   ]
  },
  {
   "cell_type": "code",
   "execution_count": 45,
   "id": "718fd861",
   "metadata": {
    "id": "718fd861"
   },
   "outputs": [
    {
     "name": "stdin",
     "output_type": "stream",
     "text": [
      "Digite um número:\n",
      " 20\n"
     ]
    },
    {
     "name": "stdout",
     "output_type": "stream",
     "text": [
      "Número Atualizado: 20\n"
     ]
    },
    {
     "name": "stdin",
     "output_type": "stream",
     "text": [
      "Digite um número:\n",
      " 2\n"
     ]
    },
    {
     "name": "stdout",
     "output_type": "stream",
     "text": [
      "Número Atualizado: 22\n",
      "Número Superior a 20\n"
     ]
    }
   ],
   "source": [
    "i = 0\n",
    "\n",
    "while i <= 20:\n",
    "    entrada = int(input(\"Digite um número:\\n\"))\n",
    "    i += entrada\n",
    "    resp = (\"Número Atualizado: {}\" .format(i))\n",
    "    print(resp)\n",
    "    \n",
    "print(\"Número Superior a 20\")"
   ]
  },
  {
   "cell_type": "markdown",
   "id": "d32b617c",
   "metadata": {
    "id": "d32b617c"
   },
   "source": [
    "### Exercício 3: Adivinhe o número\n",
    "Situação Problema: Você está brincando de adivinhar o número que um computador escolheu entre 1 e 100. Cada vez que você adivinha, o computador lhe dirá se o número é maior ou menor. Escreva um programa que permita que o jogador adivinhe o número e conte quantas tentativas foram necessárias.\n",
    "\n"
   ]
  },
  {
   "cell_type": "code",
   "execution_count": 23,
   "id": "3cc36712",
   "metadata": {
    "id": "3cc36712"
   },
   "outputs": [
    {
     "name": "stdout",
     "output_type": "stream",
     "text": [
      "84\n"
     ]
    },
    {
     "name": "stdin",
     "output_type": "stream",
     "text": [
      "\n",
      "Tente adivinhar o número:\n",
      " 84\n"
     ]
    },
    {
     "name": "stdout",
     "output_type": "stream",
     "text": [
      "Acertou Miseravi!!\n",
      "Número de tentativas: 1\n"
     ]
    }
   ],
   "source": [
    "import random\n",
    "\n",
    "aleatorio = random.randint(0,100)\n",
    "\n",
    "print(aleatorio)\n",
    "tentativa = 0\n",
    "\n",
    "while i != aleatorio:\n",
    "    i = int(input(\"\\nTente adivinhar o número:\\n\"))\n",
    "    if i == aleatorio:\n",
    "        print(\"Acertou Miseravi!!\")        \n",
    "    elif i > aleatorio:\n",
    "        print(\"\\nSeu Número é maior\\n\")\n",
    "    else:\n",
    "        print(\"\\nSeu Número é menor\\n\")\n",
    "        \n",
    "    tentativa +=1\n",
    "    \n",
    "    resp=(\"Número de tentativas: {}\". format(tentativa))\n",
    "    print(resp)\n",
    "\n"
   ]
  },
  {
   "cell_type": "markdown",
   "id": "0e3b71f0",
   "metadata": {
    "id": "0e3b71f0"
   },
   "source": [
    "### Exercício 4: Tabuada\n",
    "Situação Problema: Você é um estudante tentando aprender a tabuada. Escreva um programa que peça um número ao usuário e, em seguida, exiba a tabuada desse número, de 1 a 10.\n",
    "\n"
   ]
  },
  {
   "cell_type": "code",
   "execution_count": 58,
   "id": "a7bc5188",
   "metadata": {
    "id": "a7bc5188"
   },
   "outputs": [
    {
     "name": "stdin",
     "output_type": "stream",
     "text": [
      "Digite um número para descobrir a tabuada: 2\n"
     ]
    },
    {
     "name": "stdout",
     "output_type": "stream",
     "text": [
      "2\n",
      "***Tabuada do Número: 2 ***\n",
      "2 X 0 = 0\n",
      "2 X 1 = 2\n",
      "2 X 2 = 4\n",
      "2 X 3 = 6\n",
      "2 X 4 = 8\n",
      "2 X 5 = 10\n",
      "2 X 6 = 12\n",
      "2 X 7 = 14\n",
      "2 X 8 = 16\n",
      "2 X 9 = 18\n",
      "2 X 10 = 20\n"
     ]
    }
   ],
   "source": [
    "numero = int(input(\"Digite um número para descobrir a tabuada:\"))\n",
    "print(numero)\n",
    "i = 0\n",
    "print(\"***Tabuada do Número: {} ***\" .format(numero))\n",
    "while i <= 10:\n",
    "    calc = numero * i    \n",
    "    print(\"{} X {} = {}\" .format(numero,i,calc))\n",
    "    i +=1\n",
    "    "
   ]
  },
  {
   "cell_type": "markdown",
   "id": "e2a66077",
   "metadata": {
    "id": "e2a66077"
   },
   "source": [
    "### Exercício 5: Soma de números pares\n",
    "Situação Problema: Você está tentando calcular a soma de todos os números pares de 2 a 100. Escreva um programa que realize essa tarefa.\n",
    "\n"
   ]
  },
  {
   "cell_type": "code",
   "execution_count": 5,
   "id": "31d1cff6",
   "metadata": {
    "id": "31d1cff6"
   },
   "outputs": [
    {
     "name": "stdout",
     "output_type": "stream",
     "text": [
      "2550\n"
     ]
    }
   ],
   "source": [
    "i = 0\n",
    "calc = 0\n",
    "while i <= 100:\n",
    "    verificacao = i%2\n",
    "    if verificacao == 0:\n",
    "        calc += i\n",
    "    i += 1\n",
    "print(calc)"
   ]
  },
  {
   "cell_type": "markdown",
   "id": "037a9f93",
   "metadata": {
    "id": "037a9f93"
   },
   "source": [
    "### Exercício 6: Média de números\n",
    "Situação Problema: Você é um professor que deseja calcular a média das notas de seus alunos. Escreva um programa que permita que o professor insira as notas dos alunos e calcule a média.\n",
    "\n"
   ]
  },
  {
   "cell_type": "code",
   "execution_count": 87,
   "id": "1620e4a6",
   "metadata": {
    "id": "1620e4a6"
   },
   "outputs": [
    {
     "name": "stdout",
     "output_type": "stream",
     "text": [
      "*** Cálculo de Médias ***\n",
      "\n",
      "Digite as notas, para parar clique em Enter\n"
     ]
    },
    {
     "name": "stdin",
     "output_type": "stream",
     "text": [
      "Digite a 1° nota:\n",
      " 10\n",
      "Digite a 2° nota:\n",
      " 10\n",
      "Digite a 3° nota:\n",
      " \n"
     ]
    },
    {
     "name": "stdout",
     "output_type": "stream",
     "text": [
      "10.0\n"
     ]
    }
   ],
   "source": [
    "print(\"*** Cálculo de Médias ***\\n\")\n",
    "\n",
    "print(\"Digite as notas, para parar clique em Enter\")\n",
    "\n",
    "nota = input(\"Digite a 1° nota:\\n\")\n",
    "somaNotas = 0\n",
    "contador = 1\n",
    "\n",
    "while nota != \"\":\n",
    "    contador += 1\n",
    "    somaNotas += float(nota)\n",
    "    nota = input(\"Digite a {}° nota:\\n\".format(contador))           \n",
    "\n",
    "media = somaNotas/(contador-1)\n",
    "print(media)\n",
    "    "
   ]
  },
  {
   "cell_type": "markdown",
   "id": "a9357fa1",
   "metadata": {
    "id": "a9357fa1"
   },
   "source": [
    "### Exercício 7: Fatorial\n",
    "Situação Problema: Você está resolvendo problemas matemáticos e precisa calcular o fatorial de um número inteiro. Escreva um programa que calcule e exiba o fatorial de um número dado.\n",
    "\n"
   ]
  },
  {
   "cell_type": "code",
   "execution_count": 23,
   "id": "d2e14a06",
   "metadata": {
    "id": "d2e14a06"
   },
   "outputs": [
    {
     "name": "stdout",
     "output_type": "stream",
     "text": [
      "*** Fatorial ***\n",
      "\n"
     ]
    },
    {
     "name": "stdin",
     "output_type": "stream",
     "text": [
      "Digite o Número para Fatorial:\n",
      " 6\n"
     ]
    },
    {
     "name": "stdout",
     "output_type": "stream",
     "text": [
      "720\n"
     ]
    }
   ],
   "source": [
    "print(\"*** Fatorial ***\\n\")\n",
    "\n",
    "num = int(input(\"Digite o Número para Fatorial:\\n\"))\n",
    "i = int(num)\n",
    "\n",
    "while i > 1:\n",
    "    i -=1\n",
    "    num *= i\n",
    "print(num)\n",
    "    \n",
    "    "
   ]
  },
  {
   "cell_type": "markdown",
   "id": "a0150711",
   "metadata": {
    "id": "a0150711"
   },
   "source": [
    "### Exercício 8: Números primos\n",
    "Situação Problema: Você está explorando números primos e deseja verificar se um determinado número é primo. Escreva um programa que permita que o usuário insira um número e determine se ele é primo ou não.\n",
    "\n"
   ]
  },
  {
   "cell_type": "code",
   "execution_count": 101,
   "id": "0d14fbb8",
   "metadata": {
    "id": "0d14fbb8"
   },
   "outputs": [
    {
     "name": "stdin",
     "output_type": "stream",
     "text": [
      "*** Digite o Número para saber se é Primo: ***\n",
      " 9\n"
     ]
    },
    {
     "name": "stdout",
     "output_type": "stream",
     "text": [
      "Número Primo\n",
      "Número Não Primo\n"
     ]
    }
   ],
   "source": [
    "num = int(input(\"*** Digite o Número para saber se é Primo: ***\\n\"))\n",
    "\n",
    "divisor = 2\n",
    "\n",
    "while divisor < num:\n",
    "    if num%divisor == 0:\n",
    "        print(\"Número Não Primo\")\n",
    "        break\n",
    "    else:\n",
    "        print(\"Número Primo\")\n",
    "    divisor +=1"
   ]
  },
  {
   "cell_type": "markdown",
   "id": "f44c34b5",
   "metadata": {
    "id": "f44c34b5"
   },
   "source": [
    "### Exercício 9: Soma até ultrapassar valor\n",
    "Situação Problema: Você está tentando descobrir quantos números inteiros precisam ser somados sequencialmente até que a soma total seja maior que 100. Escreva um programa que realize esse cálculo.\n"
   ]
  },
  {
   "cell_type": "code",
   "execution_count": 123,
   "id": "bf9de2aa",
   "metadata": {
    "id": "bf9de2aa"
   },
   "outputs": [
    {
     "name": "stdin",
     "output_type": "stream",
     "text": [
      "Digite os Números até ultrapassar 100\n",
      " 50\n",
      "Ainda não deu 100\n",
      "Estamos em: 50\n",
      "Digite outro número:\n",
      " 50\n",
      "Ainda não deu 100\n",
      "Estamos em: 100\n",
      "Digite outro número:\n",
      " 1\n"
     ]
    },
    {
     "name": "stdout",
     "output_type": "stream",
     "text": [
      "Passou de 100. O número é 101\n"
     ]
    }
   ],
   "source": [
    "num = int(input(\"Digite os Números até ultrapassar 100\\n\"))\n",
    "\n",
    "while num <= 100:\n",
    "    num += int(input(\"Ainda não deu 100\\nEstamos em: {}\\nDigite outro número:\\n\".format(num)))\n",
    "print(\"Passou de 100. O número é {}\".format(num))"
   ]
  },
  {
   "cell_type": "markdown",
   "id": "9d8dca7a",
   "metadata": {
    "id": "9d8dca7a"
   },
   "source": [
    "\n",
    "### Exercício 10: Validando entrada numérica\n",
    "Situação Problema: Você está criando um programa que requer entrada numérica do usuário. No entanto, você deseja garantir que a entrada seja válida. Escreva um programa que solicite ao usuário um número e continue pedindo até que um número válido seja inserido.\n",
    "\n"
   ]
  },
  {
   "cell_type": "code",
   "execution_count": null,
   "id": "1ef94e86",
   "metadata": {
    "id": "1ef94e86"
   },
   "outputs": [],
   "source": [
    "entrada = input(\"Digite algo: \\n\")\n",
    "print(entrada)\n",
    "\n",
    "i = True\n",
    "while i:\n",
    "    if entrada.isnumeric():\n",
    "        print(\"É Número\")\n",
    "        i = False\n",
    "        break\n",
    "    else:\n",
    "        i = True\n",
    "        print(\"Não\")\n"
   ]
  },
  {
   "cell_type": "markdown",
   "id": "c89c29ca",
   "metadata": {
    "id": "c89c29ca"
   },
   "source": [
    "### Exercício 11: Jogo de adivinhação com dicas\n",
    "Situação Problema: Você está jogando um jogo de adivinhação onde precisa adivinhar um número entre 1 e 100. O computador fornecerá dicas para orientar suas suposições. Escreva um programa que permita que você jogue esse jogo.\n",
    "\n"
   ]
  },
  {
   "cell_type": "code",
   "execution_count": null,
   "id": "f23e238a",
   "metadata": {
    "id": "f23e238a"
   },
   "outputs": [],
   "source": []
  },
  {
   "cell_type": "markdown",
   "id": "0a89370c",
   "metadata": {
    "id": "0a89370c"
   },
   "source": [
    "### Exercício 12: Contagem de vogais\n",
    "Situação Problema: Você está analisando palavras e deseja saber quantas vogais cada palavra contém. Escreva um programa que conte e exiba o número de vogais em uma palavra inserida pelo usuário.\n",
    "\n"
   ]
  },
  {
   "cell_type": "code",
   "execution_count": null,
   "id": "51b3893c",
   "metadata": {
    "id": "51b3893c"
   },
   "outputs": [],
   "source": []
  },
  {
   "cell_type": "markdown",
   "id": "4999df99",
   "metadata": {
    "id": "4999df99"
   },
   "source": [
    "### Exercício 13: Média de notas com validação\n",
    "Situação Problema: Você é um professor que deseja calcular a média das notas de seus alunos. No entanto, você também deseja validar as notas para garantir que estejam dentro de um intervalo adequado. Escreva um programa que permita que o professor insira as notas dos alunos, valide-as e calcule a média."
   ]
  },
  {
   "cell_type": "code",
   "execution_count": null,
   "id": "7e356ced",
   "metadata": {
    "id": "7e356ced"
   },
   "outputs": [],
   "source": []
  }
 ],
 "metadata": {
  "colab": {
   "provenance": []
  },
  "kernelspec": {
   "display_name": "Python 3 (ipykernel)",
   "language": "python",
   "name": "python3"
  },
  "language_info": {
   "codemirror_mode": {
    "name": "ipython",
    "version": 3
   },
   "file_extension": ".py",
   "mimetype": "text/x-python",
   "name": "python",
   "nbconvert_exporter": "python",
   "pygments_lexer": "ipython3",
   "version": "3.12.3"
  }
 },
 "nbformat": 4,
 "nbformat_minor": 5
}
