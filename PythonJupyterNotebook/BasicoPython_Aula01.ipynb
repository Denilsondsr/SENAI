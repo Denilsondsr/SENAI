{
 "cells": [
  {
   "cell_type": "markdown",
   "id": "39970c94-fe6f-4d2d-9178-9d93b98c1ade",
   "metadata": {},
   "source": [
    "<h1> Exercicio</h1>\n",
    "<h2> Escreve o código da lousa na célula</h2>"
   ]
  },
  {
   "cell_type": "code",
   "execution_count": 3,
   "id": "c170be4e-d5aa-416d-83c7-e54d8d82b93c",
   "metadata": {},
   "outputs": [
    {
     "name": "stdout",
     "output_type": "stream",
     "text": [
      "X é diferente de 2\n",
      "O bloco While finalizou. Continuando o programa. . .\n"
     ]
    }
   ],
   "source": [
    "x=3\n",
    "while(x != 2):\n",
    "    print(\"X é diferente de 2\")\n",
    "    x = 2\n",
    "\n",
    "print (\"O bloco While finalizou. Continuando o programa. . .\")"
   ]
  },
  {
   "cell_type": "markdown",
   "id": "045d4ade-a733-463d-9a3f-e5d7b79bed14",
   "metadata": {},
   "source": [
    "# Exercicio 2\n",
    "    Copie e execute o exercicio do Slide"
   ]
  },
  {
   "cell_type": "code",
   "execution_count": 13,
   "id": "b163fe68-c3ab-42e9-9df6-758951c973ab",
   "metadata": {},
   "outputs": [
    {
     "name": "stdout",
     "output_type": "stream",
     "text": [
      "195.0\n"
     ]
    }
   ],
   "source": [
    "qtde_pepsi = 130\n",
    "preco_pepsi = 1.50\n",
    "print (qtde_pepsi * preco_pepsi)"
   ]
  },
  {
   "cell_type": "code",
   "execution_count": null,
   "id": "c7a87c8d-1126-4459-b3ce-6743f0671dd8",
   "metadata": {},
   "outputs": [],
   "source": []
  }
 ],
 "metadata": {
  "kernelspec": {
   "display_name": "Python 3 (ipykernel)",
   "language": "python",
   "name": "python3"
  },
  "language_info": {
   "codemirror_mode": {
    "name": "ipython",
    "version": 3
   },
   "file_extension": ".py",
   "mimetype": "text/x-python",
   "name": "python",
   "nbconvert_exporter": "python",
   "pygments_lexer": "ipython3",
   "version": "3.12.4"
  }
 },
 "nbformat": 4,
 "nbformat_minor": 5
}
