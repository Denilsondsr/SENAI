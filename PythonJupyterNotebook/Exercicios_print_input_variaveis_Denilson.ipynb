{
 "cells": [
  {
   "cell_type": "markdown",
   "metadata": {
    "id": "j6sjkzfeW5jb"
   },
   "source": [
    "**Exercício 1: Registro de Informações Pessoais**\n",
    "\n",
    "Desenvolva um programa em Python que solicite ao usuário que insira seu nome, sobrenome e idade. Em seguida, o programa deve exibir uma mensagem de boas-vindas contendo essas informações.\n",
    "\n",
    "Utilize os comandos print, input e variáveis para capturar e exibir os dados fornecidos pelo usuário."
   ]
  },
  {
   "cell_type": "code",
   "execution_count": 7,
   "metadata": {
    "id": "lWSwR3FJXKVk"
   },
   "outputs": [
    {
     "name": "stdout",
     "output_type": "stream",
     "text": [
      "** Realize seu Cadastro!! **\n"
     ]
    },
    {
     "name": "stdin",
     "output_type": "stream",
     "text": [
      "Digite seu nome:  26\n",
      "Digite seu sobrenome:  26\n",
      "Digite sua idade:  26\n"
     ]
    },
    {
     "name": "stdout",
     "output_type": "stream",
     "text": [
      "*** Seja Bem Vindo *** \n",
      "Cadastro Realizado com Sucesso.!\n",
      "\n",
      "Nome: 26\n",
      "\n",
      "Sobrenome: 26\n",
      "Idade: 26\n"
     ]
    }
   ],
   "source": [
    "print(\"** Realize seu Cadastro!! **\")\n",
    "nome = input(\"Digite seu nome: \")\n",
    "sobrenome = input(\"Digite seu sobrenome: \")\n",
    "idade = input(\"Digite sua idade: \")\n",
    "\n",
    "print(\"*** Seja Bem Vindo *** \\nCadastro Realizado com Sucesso.!\\n\")\n",
    "print(f\"Nome: {nome}\")\n",
    "print(\"\\nSobrenome: {}\\nIdade: {}\".format(sobrenome, idade))"
   ]
  },
  {
   "cell_type": "markdown",
   "metadata": {
    "id": "VOn3GDxFXKwd"
   },
   "source": [
    "**Exercício 2: Calculadora de média**\n",
    "\n",
    "Crie um programa em Python que solicite ao usuário que insira as notas das três provas. Em seguida, o programa deve calcular a média dessas notas e exibir o resultado para o usuário.\n",
    "\n",
    "Certifique-se de utilizar os comandos print, input e variáveis para realizar a operação."
   ]
  },
  {
   "cell_type": "code",
   "execution_count": 33,
   "metadata": {
    "id": "T_JqFzWqXK8O"
   },
   "outputs": [
    {
     "name": "stdout",
     "output_type": "stream",
     "text": [
      "*** Faça a média das Notas ***\n"
     ]
    },
    {
     "name": "stdin",
     "output_type": "stream",
     "text": [
      "Digite a 1° nota:  10\n",
      "Digite a 2° nota:  10\n",
      "Digite a 3° nota:  10\n"
     ]
    },
    {
     "name": "stdout",
     "output_type": "stream",
     "text": [
      "A média das notas é: 10.0\n"
     ]
    }
   ],
   "source": [
    "print(\"*** Faça a média das Notas ***\")\n",
    "\n",
    "n1 = int(input(\"Digite a 1° nota: \"))\n",
    "n2 = int(input(\"Digite a 2° nota: \"))\n",
    "n3 = int(input(\"Digite a 3° nota: \"))\n",
    "\n",
    "media = ((n1 + n2 + n3) / 3)\n",
    "\n",
    "print(\"A média das notas é: {}\". format (media))"
   ]
  },
  {
   "cell_type": "markdown",
   "metadata": {},
   "source": []
  }
 ],
 "metadata": {
  "colab": {
   "provenance": []
  },
  "kernelspec": {
   "display_name": "Python 3 (ipykernel)",
   "language": "python",
   "name": "python3"
  },
  "language_info": {
   "codemirror_mode": {
    "name": "ipython",
    "version": 3
   },
   "file_extension": ".py",
   "mimetype": "text/x-python",
   "name": "python",
   "nbconvert_exporter": "python",
   "pygments_lexer": "ipython3",
   "version": "3.12.4"
  }
 },
 "nbformat": 4,
 "nbformat_minor": 4
}
