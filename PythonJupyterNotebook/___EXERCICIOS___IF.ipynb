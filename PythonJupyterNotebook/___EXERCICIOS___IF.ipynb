{
 "cells": [
  {
   "cell_type": "markdown",
   "metadata": {
    "id": "_Fe90JOXiJbX"
   },
   "source": [
    "# Exercícios com if"
   ]
  },
  {
   "cell_type": "markdown",
   "metadata": {
    "id": "A1QT4EpgiJbd"
   },
   "source": [
    "## 1. Cálculo de Bônus\n",
    "\n",
    "- Crie um programa que calcule e dê um print no bônus que os funcionários devem receber segundo a regra:\n",
    "\n",
    "A meta é 1000 vendas.<br>\n",
    "Se o valor de vendas for maior ou igual a meta, o valor do bônus do funcionário é 10% do valor de vendas.<br>\n",
    "Caso contrário o valor de bônus do funcionário é 0.<br>\n",
    "Print o bônus dos 3 funcionários"
   ]
  },
  {
   "cell_type": "code",
   "execution_count": 18,
   "metadata": {
    "id": "Yg_UOtQpiJbe"
   },
   "outputs": [
    {
     "name": "stdout",
     "output_type": "stream",
     "text": [
      "*** Calculando Comissão ***\n",
      "\n"
     ]
    },
    {
     "name": "stdin",
     "output_type": "stream",
     "text": [
      "Digite o número de vendas do Funcionário: \n",
      " 2000\n"
     ]
    },
    {
     "name": "stdout",
     "output_type": "stream",
     "text": [
      "O Bônus do funcionário é: 200.0\n"
     ]
    }
   ],
   "source": [
    "print(\"*** Calculando Comissão ***\\n\")\n",
    "\n",
    "venda = float(input(\"Digite o número de vendas do Funcionário: \\n\"))\n",
    "\n",
    "meta = 1000\n",
    "\n",
    "if venda >=meta:\n",
    "    bonus = venda*0.1\n",
    "    print(\"O Bônus do funcionário é: {}\" .format(bonus))\n",
    "else:\n",
    "    print(\"O Funcionário não bateu a meta\")"
   ]
  },
  {
   "cell_type": "markdown",
   "metadata": {
    "id": "tYHfIUDIiJbi"
   },
   "source": [
    "## 2. Cálculo de bônus com uma nova regra\n",
    "\n",
    "- Agora, crie um novo código que calcule e dê um print no bônus dos funcionários novamente. Porém há uma nova regra nesse 2º caso:\n",
    "\n",
    "A meta é 1000 vendas<br>\n",
    "Agora, os funcionários que venderem muito acima da meta ganham mais bônus do que os outros. Então o bônus é definido da seguinte forma:<br>\n",
    "\n",
    "- Se vendas funcionário for maior ou igual a 2000, então o bônus é de 15% sobre o valor de vendas\n",
    "- Se vendas funcionário for menor do que 2000 e maior ou igual a 1000, então o bônus é de 10% sobre o valor de vendas\n",
    "- Se vendas funcionário for menos do que 1000 então o bônus do funcionário é de 0.\n",
    "\n",
    "Use as mesmas variáveis de vendas_funcionários"
   ]
  },
  {
   "cell_type": "code",
   "execution_count": 26,
   "metadata": {
    "id": "HN8wMfKViJbi"
   },
   "outputs": [
    {
     "name": "stdout",
     "output_type": "stream",
     "text": [
      "*** Calculando Comissão ***\n",
      "\n"
     ]
    },
    {
     "name": "stdin",
     "output_type": "stream",
     "text": [
      "Digite o número de vendas do Funcionário: \n",
      " 900\n"
     ]
    },
    {
     "name": "stdout",
     "output_type": "stream",
     "text": [
      "Meta mínima de 1000 não atingida\n"
     ]
    }
   ],
   "source": [
    "print(\"*** Calculando Comissão ***\\n\")\n",
    "\n",
    "venda = float(input(\"Digite o número de vendas do Funcionário: \\n\"))\n",
    "\n",
    "if venda >= 2000:\n",
    "    bonus = venda*0.15\n",
    "    print(\"O Bônus do funcionário é: {}\" .format(bonus))\n",
    "elif venda < 2000 and venda >= 1000:\n",
    "    bonus = venda*0.1\n",
    "    print(\"O Bônus do funcionário é: {}\" .format(bonus))\n",
    "else:\n",
    "    print(\"Meta mínima de 1000 não atingida\")"
   ]
  },
  {
   "cell_type": "markdown",
   "metadata": {
    "id": "iek_F9frjZQE"
   },
   "source": [
    "## 3. Criando um mini sistema de controle de estoque\n",
    "\n",
    "- Crie um sistema para ser usado pelo time de controle de estoque de um centro de distribuição.\n",
    "- Imagine que ao fim de todo dia, o time conta quantas unidades de produto existem no estoque. Se tivermos um estoque abaixo do estoque permitido para aquela categoria do produto, o time deve ser avisado (print) para fazer um novo pedido daquele produto.\n",
    "- Cada categoria de produto tem um estoque mínimo diferente, segundo a regra abaixo:\n",
    "\n",
    "- alimentos -> Estoque mínimo: 50\n",
    "- bebidas -> Estoque mínimo: 75\n",
    "- limpeza -> Estoque mínimo: 30\n",
    "\n",
    "Para isso vamos criar um programa que pede 3 inputs do usuário: nome do produto, categoria e quantidade atual em estoque.\n",
    "\n",
    "Se o produto tiver abaixo do estoque mínimo da categoria dele, o programa deve printar a mensagem \"Solicitar {produto} à equipe de compras, temos apenas {unidades} em estoque\"\n",
    "\n",
    "Exemplo: Se o usuário preenche os inputs com: bebidas, dolly, 90, o programa não deve exibir nenhuma mensagem.<br>\n",
    "Agora, se o usuário preenche os inputs com: bebidas, guaraná, 60, o programa deve exibir a mensagem \"Solicitar guaraná à equipe de compras, temos apenas 60 unidades em estoque.\n",
    "\n",
    "Obs: lembre de usar o int() para transformar o número inserido pelo usuário no input de string para int.<br>\n",
    "Obs2: Caso o usuário não preencha alguma das 3 informações, o programa deve exibir uma mensagem para avisá-lo de preencher corretamente."
   ]
  },
  {
   "cell_type": "code",
   "execution_count": 80,
   "metadata": {
    "id": "X1V8uxNGjc7j"
   },
   "outputs": [
    {
     "name": "stdout",
     "output_type": "stream",
     "text": [
      "*** Controle de Estoque ***\n",
      "\n",
      "Preencha as informações conforme solicitado!\n"
     ]
    },
    {
     "name": "stdin",
     "output_type": "stream",
     "text": [
      "Digite o nome do produto:\n",
      " Coca\n",
      "Digite a categoria que se enquadra o produto: Coca\n",
      " bebidas\n",
      "Digite quantas quantidades restam do produto: Coca\n",
      " 100\n"
     ]
    },
    {
     "name": "stdout",
     "output_type": "stream",
     "text": [
      "Confirme as informações:\n",
      " O Coca corresponde a categoria bebidas e restam apenas 100 unidades?\n"
     ]
    },
    {
     "name": "stdin",
     "output_type": "stream",
     "text": [
      "Responda Sim ou Não:\n",
      " sim\n"
     ]
    },
    {
     "name": "stdout",
     "output_type": "stream",
     "text": [
      "Estoque de Alimentos está OKAY!\n"
     ]
    }
   ],
   "source": [
    "print(\"*** Controle de Estoque ***\\n\")\n",
    "print(\"Preencha as informações conforme solicitado!\")\n",
    "\n",
    "qtddalimentoMin = 50\n",
    "qtddbebidaMin = 75\n",
    "qtddlimpezaMin = 30\n",
    "\n",
    "nomeProd = input(\"Digite o nome do produto:\\n\")\n",
    "categoriaProd = input(\"Digite a categoria que se enquadra o produto: {}\\n\" .format(nomeProd))\n",
    "qtddProd = input(\"Digite quantas quantidades restam do produto: {}\\n\" .format(nomeProd))\n",
    "\n",
    "print(\"Confirme as informações:\\n O {} corresponde a categoria {} e restam apenas {} unidades?\" .format(nomeProd, categoriaProd, qtddProd))\n",
    "resp = input(\"Responda Sim ou Não:\\n\")\n",
    "\n",
    "\n",
    "if nomeProd and categoriaProd and qtddProd :\n",
    "    if 'alimentos' or 'Alimentos' or 'ALIMENTOS' or 'aLIMENTOS' in categoriaProd:\n",
    "        if int(qtddProd) >= qtddalimentoMin:\n",
    "            print(\"Estoque de Alimentos está OKAY!\")\n",
    "        else:\n",
    "            print(\"Solicitar {} à equipe de compras, temos apenas {} unidades em estoque.\" .format(nomeProd, qtddProd))\n",
    "    elif 'bebidas' in categoriaProd:\n",
    "        if int(qtddProd) >= qtddbebidaMin:\n",
    "            print(\"Estoque de Bebidas está OKAY!\")\n",
    "        else:\n",
    "            print(\"Solicitar {} à equipe de compras, temos apenas {} unidades em estoque.\" .format(nomeProd, qtddProd))\n",
    "    elif 'limpeza' in categoriaProd:\n",
    "        if int(qtddProd) > qtddlimpezaMin:\n",
    "            print(\"Estoque de Limpeza está OKAY!\")\n",
    "        else:\n",
    "            print(\"Solicitar {} à equipe de compras, temos apenas {} unidades em estoque.\" .format(nomeProd, qtddProd))\n",
    "else:\n",
    "    print(\"Algum valor não foi fornecido\")"
   ]
  },
  {
   "cell_type": "code",
   "execution_count": null,
   "metadata": {},
   "outputs": [],
   "source": []
  }
 ],
 "metadata": {
  "colab": {
   "provenance": []
  },
  "kernelspec": {
   "display_name": "Python 3 (ipykernel)",
   "language": "python",
   "name": "python3"
  },
  "language_info": {
   "codemirror_mode": {
    "name": "ipython",
    "version": 3
   },
   "file_extension": ".py",
   "mimetype": "text/x-python",
   "name": "python",
   "nbconvert_exporter": "python",
   "pygments_lexer": "ipython3",
   "version": "3.12.4"
  }
 },
 "nbformat": 4,
 "nbformat_minor": 4
}
