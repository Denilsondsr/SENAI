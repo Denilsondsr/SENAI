{
 "cells": [
  {
   "cell_type": "markdown",
   "id": "46e49890-ca99-403c-a0cd-1821450829f7",
   "metadata": {},
   "source": [
    "## Aula 13/7 - Listas e laço FOR (revisão)"
   ]
  },
  {
   "cell_type": "code",
   "execution_count": 3,
   "id": "6296171f-4274-46fe-a576-092feef262d2",
   "metadata": {},
   "outputs": [
    {
     "name": "stdout",
     "output_type": "stream",
     "text": [
      "Lista frutas = ['maca', 'banana', 'pera', 'uva'] \n",
      "\n",
      "Lista eletronicos = ['iphone', 'tv', 'controle', 'mouse']\n",
      "\n",
      "Lista estoque = [['maca', 'banana', 'pera', 'uva'], ['iphone', 'tv', 'controle', 'mouse']]\n",
      "\n",
      "Imprimindo o primeiro item da lista frutas = maca \n",
      "\n",
      "Imprimindo o terceiro item da lista eletronicos = controle \n",
      "\n",
      "Imprimindo o ultimo da lista frutas que está dentro da lista estoque = uva \n",
      "\n",
      "Lista precos = [5, 10, 15, 20] \n",
      "\n"
     ]
    }
   ],
   "source": [
    "\n",
    "frutas = [\"maca\", \"banana\", \"pera\" , \"uva\" ]\n",
    "eletronicos = [\"iphone\", \"tv\", \"controle\" , \"mouse\"]\n",
    "\n",
    "estoque = [  frutas  ,  eletronicos ]\n",
    "\n",
    "print(\"Lista frutas = {} \\n\".format(frutas))\n",
    "print(\"Lista eletronicos = {}\\n\".format(eletronicos))\n",
    "print(\"Lista estoque = {}\\n\".format(estoque))\n",
    "\n",
    "print(\"Imprimindo o primeiro item da lista frutas = {} \\n\".format(frutas[0]))                                                               \n",
    "print(\"Imprimindo o terceiro item da lista eletronicos = {} \\n\".format(eletronicos[2]))  \n",
    "print(\"Imprimindo o ultimo da lista frutas que está dentro da lista estoque = {} \\n\".format(estoque[0][3]))\n",
    "\n",
    "preco_frutas = [  5 , 10 , 15 , 20 ]\n",
    "\n",
    "print(\"Lista precos = {} \\n\".format(preco_frutas))"
   ]
  },
  {
   "cell_type": "code",
   "execution_count": 28,
   "id": "f207fcb3-203d-4b31-9e95-ce9c7a832b23",
   "metadata": {},
   "outputs": [
    {
     "name": "stdout",
     "output_type": "stream",
     "text": [
      "** consulta de precos **\n"
     ]
    },
    {
     "name": "stdin",
     "output_type": "stream",
     "text": [
      "Digite o nome da fruta a ser consultado preco melancia\n"
     ]
    },
    {
     "name": "stdout",
     "output_type": "stream",
     "text": [
      "Voce consultou o preco da fruta melancia . O preco atual é de 50\n"
     ]
    }
   ],
   "source": [
    "#CONSULTA DE PRECO DE FRUTA\n",
    "\n",
    "print(\"** consulta de precos **\")\n",
    "entrada_usuario = input(\"Digite o nome da fruta a ser consultado preco\").lower().strip()\n",
    "\n",
    "indice_buscar = frutas.index(entrada_usuario)\n",
    "\n",
    "print(\"Voce consultou o preco da fruta {} . O preco atual é de {}\".format(entrada_usuario , preco_frutas[indice_buscar] ) )\n",
    "\n",
    "#EXERCICIO: trate para que apresente uma mensagem caso a fruta nao exista - voce pode usar if ou entao o try...except"
   ]
  },
  {
   "cell_type": "code",
   "execution_count": 27,
   "id": "8704bb61-9ed7-49f5-a4b0-64f40c5df319",
   "metadata": {},
   "outputs": [
    {
     "name": "stdout",
     "output_type": "stream",
     "text": [
      "['maca', 'banana', 'pera', 'uva', 'melancia']\n",
      "[5, 10, 15, 20, 50]\n"
     ]
    }
   ],
   "source": [
    "frutas.append(\"melancia\")\n",
    "preco_frutas.append(50)\n",
    "\n",
    "# frutas.remove(\"melancia\")   \n",
    "# preco_frutas.remove(50)\n",
    "\n",
    "print(frutas)\n",
    "print(preco_frutas)\n",
    "\n",
    "\n"
   ]
  },
  {
   "cell_type": "code",
   "execution_count": 29,
   "id": "ed8fae87-bd37-4709-928f-87d301de04c4",
   "metadata": {},
   "outputs": [
    {
     "name": "stdout",
     "output_type": "stream",
     "text": [
      "[['maca', 'banana', 'pera', 'uva', 'melancia'], ['iphone', 'tv', 'controle', 'mouse']]\n"
     ]
    }
   ],
   "source": [
    "print(estoque)"
   ]
  },
  {
   "cell_type": "code",
   "execution_count": 31,
   "id": "c24009e1-1f9c-48d8-bb40-dd2b97bb4579",
   "metadata": {},
   "outputs": [
    {
     "name": "stdout",
     "output_type": "stream",
     "text": [
      "texto qualquer\n",
      "texto qualquer\n"
     ]
    }
   ],
   "source": [
    "\n",
    "variavel1 = \"texto qualquer\"\n",
    "variavel2 = variavel1\n",
    "\n",
    "print(variavel1)\n",
    "print(variavel2)\n"
   ]
  },
  {
   "cell_type": "code",
   "execution_count": 34,
   "id": "a64eb9dd-7975-4ff0-b4fe-b16827e9a810",
   "metadata": {},
   "outputs": [
    {
     "name": "stdout",
     "output_type": "stream",
     "text": [
      "outro texto\n",
      "texto qualquer\n",
      "[1, 2, 3]\n",
      "[1, 2, 3]\n",
      "[1, 2, 3, 4]\n",
      "[1, 2, 3, 4]\n"
     ]
    }
   ],
   "source": [
    "variavel1 = \"outro texto\"\n",
    "\n",
    "print(variavel1)\n",
    "print(variavel2)\n",
    "\n",
    "lista1 = [1,2,3]\n",
    "lista2 = lista1\n",
    "\n",
    "print(lista1)\n",
    "print(lista2)\n",
    "\n",
    "lista1.append(4)\n",
    "print(lista1)\n",
    "print(lista2)\n",
    "\n"
   ]
  },
  {
   "cell_type": "code",
   "execution_count": 36,
   "id": "ecb235f6-d29d-4869-90ca-1aebc27adadc",
   "metadata": {},
   "outputs": [
    {
     "name": "stdout",
     "output_type": "stream",
     "text": [
      "[1, 2, 3, 4]\n",
      "[1, 2, 3, 4]\n",
      "[1, 2, 3, 4]\n",
      "[1, 2, 3, 4, 5, 6]\n",
      "[1, 2, 3, 4, 5, 6]\n",
      "[1, 2, 3, 4, 5]\n"
     ]
    }
   ],
   "source": [
    "lista3 = lista1.copy()\n",
    "print(lista1)\n",
    "print(lista2)\n",
    "print(lista3)\n",
    "\n",
    "lista1.append(5)\n",
    "lista2 = lista1\n",
    "lista3 = lista1.copy()\n",
    "\n",
    "lista1.append(6)\n",
    "\n",
    "print(lista1)\n",
    "print(lista2)\n",
    "print(lista3)\n",
    "\n",
    "\n",
    "\n"
   ]
  },
  {
   "cell_type": "code",
   "execution_count": 12,
   "id": "0a24cc45-7ca2-4a12-ab6e-34d5fbdb468b",
   "metadata": {},
   "outputs": [
    {
     "name": "stdout",
     "output_type": "stream",
     "text": [
      "['12', '13', '14', '15', '66', '88', '43']\n",
      "[9, 66, 77, 98, 100, 876, 1000]\n",
      "[1000, 876, 100, 98, 77, 66, 9]\n"
     ]
    }
   ],
   "source": [
    "string = \"12, 13, 14, 15, 66, 88, 43\"\n",
    "\n",
    "lista = string.split(sep = \", \")\n",
    "\n",
    "print(lista)\n",
    "\n",
    "lista_numeros = [9, 98, 66,77,876,100, 1000]\n",
    "\n",
    "lista_numeros.sort()\n",
    "print(lista_numeros)\n",
    "\n",
    "lista_numeros.sort(reverse = True)\n",
    "print(lista_numeros)\n",
    "\n"
   ]
  },
  {
   "cell_type": "code",
   "execution_count": 13,
   "id": "11b9131e-2917-473d-bd62-41e9b36b7db6",
   "metadata": {},
   "outputs": [
    {
     "name": "stdout",
     "output_type": "stream",
     "text": [
      "[1, 2, 3, 4, 5, 6]\n"
     ]
    }
   ],
   "source": [
    "lista1 = [1,2,3]\n",
    "lista2 = [4,5,6]\n",
    "\n",
    "lista1.extend(lista2)\n",
    "print(lista1)"
   ]
  },
  {
   "cell_type": "code",
   "execution_count": 15,
   "id": "ca4c202b-2ff2-49e6-a1c9-86a6bc20f675",
   "metadata": {},
   "outputs": [
    {
     "name": "stdout",
     "output_type": "stream",
     "text": [
      "[1, 2, 3, 4, 5, 6, 4, 5, 6]\n"
     ]
    }
   ],
   "source": [
    "lista3 = lista1 + lista2\n",
    "\n",
    "print(lista3)"
   ]
  },
  {
   "cell_type": "code",
   "execution_count": 16,
   "id": "612cdef2-8906-4c07-bdc8-0419e46c4fe2",
   "metadata": {},
   "outputs": [
    {
     "name": "stdout",
     "output_type": "stream",
     "text": [
      "['iphone', 'pc', 'mouse']\n"
     ]
    }
   ],
   "source": [
    "produtos = [\"iphone\",\"pc\",\"mouse\"]\n",
    "\n",
    "print(produtos)"
   ]
  },
  {
   "cell_type": "code",
   "execution_count": 17,
   "id": "4e696f0c-e9d5-43c0-86e3-2800843477b2",
   "metadata": {},
   "outputs": [
    {
     "name": "stdout",
     "output_type": "stream",
     "text": [
      "iphone\n",
      "pc\n",
      "mouse\n"
     ]
    }
   ],
   "source": [
    "print('\\n'.join(produtos))"
   ]
  },
  {
   "cell_type": "markdown",
   "id": "f3f46059-811f-4269-b160-34d7d619223b",
   "metadata": {},
   "source": [
    "## Laço For"
   ]
  },
  {
   "cell_type": "code",
   "execution_count": 24,
   "id": "76ff9d00-17fd-49c6-9754-a2ba968def13",
   "metadata": {},
   "outputs": [
    {
     "name": "stdout",
     "output_type": "stream",
     "text": [
      "estamos na volta numero: 1\n",
      "estamos na volta numero: 2\n",
      "estamos na volta numero: 3\n",
      "estamos na volta numero: 4\n",
      "estamos na volta numero: 5\n",
      "estamos na volta numero: 6\n",
      "estamos na volta numero: 7\n",
      "estamos na volta numero: 8\n",
      "estamos na volta numero: 9\n",
      "estamos na volta numero: 10\n",
      "estamos na volta numero: 11\n",
      "estamos na volta numero: 12\n",
      "estamos na volta numero: 13\n",
      "estamos na volta numero: 14\n",
      "estamos na volta numero: 15\n",
      "estamos na volta numero: 16\n",
      "estamos na volta numero: 17\n",
      "estamos na volta numero: 18\n",
      "estamos na volta numero: 19\n",
      "estamos na volta numero: 20\n",
      "estamos na volta numero: 21\n",
      "estamos na volta numero: 22\n",
      "estamos na volta numero: 23\n",
      "estamos na volta numero: 24\n",
      "estamos na volta numero: 25\n",
      "estamos na volta numero: 26\n",
      "estamos na volta numero: 27\n",
      "estamos na volta numero: 28\n",
      "estamos na volta numero: 29\n",
      "estamos na volta numero: 30\n",
      "estamos na volta numero: 31\n",
      "estamos na volta numero: 32\n",
      "estamos na volta numero: 33\n",
      "estamos na volta numero: 34\n",
      "estamos na volta numero: 35\n",
      "estamos na volta numero: 36\n",
      "estamos na volta numero: 37\n",
      "estamos na volta numero: 38\n",
      "estamos na volta numero: 39\n",
      "estamos na volta numero: 40\n",
      "estamos na volta numero: 41\n",
      "estamos na volta numero: 42\n",
      "estamos na volta numero: 43\n",
      "estamos na volta numero: 44\n",
      "estamos na volta numero: 45\n",
      "estamos na volta numero: 46\n",
      "estamos na volta numero: 47\n",
      "estamos na volta numero: 48\n",
      "estamos na volta numero: 49\n",
      "estamos na volta numero: 50\n"
     ]
    }
   ],
   "source": [
    "#O for é um iterador, serve para fazer iterações. Cada iteração é um ciclo dentro de um \"loop\" de execução\n",
    "\n",
    "for i in range(50):\n",
    "    print(\"estamos na volta numero: {}\".format(i + 1))\n",
    "    "
   ]
  },
  {
   "cell_type": "code",
   "execution_count": 25,
   "id": "f4c1159b-1fbd-438e-a1ba-7177d077d4f1",
   "metadata": {},
   "outputs": [
    {
     "name": "stdout",
     "output_type": "stream",
     "text": [
      "**** Relatorio de produção ****\n",
      "O numero de coca produzidas foi de 2000\n",
      "O numero de pepsi produzidas foi de 3000\n",
      "O numero de fanta produzidas foi de 4000\n",
      "*** FIM DO RELATORIO ***\n"
     ]
    }
   ],
   "source": [
    "#Impressao de relatorio sem o for, linha a linha\n",
    "\n",
    "produtos = [\"coca\", \"pepsi\", \"fanta\"]\n",
    "producao = [2000,3000,4000]\n",
    "\n",
    "print(\"**** Relatorio de produção ****\")\n",
    "print(\"O numero de {} produzidas foi de {}\".format(produtos[0],producao[0]))\n",
    "print(\"O numero de {} produzidas foi de {}\".format(produtos[1],producao[1]))\n",
    "print(\"O numero de {} produzidas foi de {}\".format(produtos[2],producao[2]))\n",
    "print(\"*** FIM DO RELATORIO ***\")\n"
   ]
  },
  {
   "cell_type": "code",
   "execution_count": 27,
   "id": "a7229b80-b4eb-49e7-af1c-9f4728b7e5d0",
   "metadata": {},
   "outputs": [
    {
     "name": "stdout",
     "output_type": "stream",
     "text": [
      "**** Relatorio de produção ****\n",
      "O numero de coca produzidas foi de 2000\n",
      "O numero de pepsi produzidas foi de 3000\n",
      "O numero de fanta produzidas foi de 4000\n",
      "O numero de sprite produzidas foi de 2000\n",
      "O numero de kwat produzidas foi de 3000\n",
      "O numero de tubaina produzidas foi de 4000\n",
      "O numero de guarana produzidas foi de 2000\n",
      "O numero de coca zero produzidas foi de 3000\n",
      "O numero de guarana zero produzidas foi de 4000\n",
      "O numero de cerveja produzidas foi de 8000\n",
      "*** FIM DO RELATORIO ***\n"
     ]
    }
   ],
   "source": [
    "# A empresa cresceu e começarama a ser produzidos novos produtos\n",
    "\n",
    "# imagine aqui um codigo python importanto os dados de um banco  de dados SQL e colocando numa lista\n",
    "produtos = [\"coca\", \"pepsi\", \"fanta\", \"sprite\", \"kwat\", \"tubaina\" , \"guarana\", \"coca zero\", \"guarana zero\", \"cerveja\"]\n",
    "producao = [2000,3000,4000,2000,3000,4000,2000,3000,4000,8000]\n",
    "\n",
    "print(\"**** Relatorio de produção ****\")\n",
    "print(\"O numero de {} produzidas foi de {}\".format(produtos[0],producao[0]))\n",
    "print(\"O numero de {} produzidas foi de {}\".format(produtos[1],producao[1]))\n",
    "print(\"O numero de {} produzidas foi de {}\".format(produtos[2],producao[2]))\n",
    "print(\"O numero de {} produzidas foi de {}\".format(produtos[3],producao[3]))\n",
    "print(\"O numero de {} produzidas foi de {}\".format(produtos[4],producao[4]))\n",
    "print(\"O numero de {} produzidas foi de {}\".format(produtos[5],producao[5]))\n",
    "print(\"O numero de {} produzidas foi de {}\".format(produtos[6],producao[6]))\n",
    "print(\"O numero de {} produzidas foi de {}\".format(produtos[7],producao[7]))\n",
    "print(\"O numero de {} produzidas foi de {}\".format(produtos[8],producao[8]))\n",
    "print(\"O numero de {} produzidas foi de {}\".format(produtos[9],producao[9]))\n",
    "print(\"*** FIM DO RELATORIO ***\")\n"
   ]
  },
  {
   "cell_type": "code",
   "execution_count": 29,
   "id": "d16f4389-7c9d-4c39-bdcf-28aa7dd1d596",
   "metadata": {},
   "outputs": [
    {
     "name": "stdout",
     "output_type": "stream",
     "text": [
      "**** Relatorio de produção ****\n",
      "O numero de coca produzidas foi de 2000\n",
      "O numero de pepsi produzidas foi de 3000\n",
      "O numero de fanta produzidas foi de 4000\n",
      "O numero de sprite produzidas foi de 2000\n",
      "O numero de kwat produzidas foi de 3000\n",
      "O numero de tubaina produzidas foi de 4000\n",
      "O numero de guarana produzidas foi de 2000\n",
      "O numero de coca zero produzidas foi de 3000\n",
      "O numero de guarana zero produzidas foi de 4000\n",
      "O numero de cerveja produzidas foi de 8000\n",
      "*** FIM DO RELATÓRIO ***\n"
     ]
    }
   ],
   "source": [
    "# Não dá mais pra ficar inserindo a linha a linha, vamos usar o FOR PARA ITERAR A LISTA!!\n",
    "\n",
    "# imagine aqui um codigo python importanto os dados de um banco  de dados SQL e colocando numa lista\n",
    "\n",
    "produtos = [\"coca\", \"pepsi\", \"fanta\", \"sprite\", \"kwat\", \"tubaina\" , \"guarana\", \"coca zero\", \"guarana zero\", \"cerveja\"]\n",
    "producao = [2000,3000,4000,2000,3000,4000,2000,3000,4000,8000]\n",
    "\n",
    "print(\"**** Relatorio de produção ****\")\n",
    "\n",
    "for i in range(10): \n",
    "    print(\"O numero de {} produzidas foi de {}\".format(produtos[i],producao[i]))\n",
    "\n",
    "print(\"*** FIM DO RELATÓRIO ***\")\n",
    "\n",
    "\n"
   ]
  },
  {
   "cell_type": "code",
   "execution_count": 33,
   "id": "99961d6f-b169-400c-80ba-a0d089db5e42",
   "metadata": {},
   "outputs": [
    {
     "name": "stdout",
     "output_type": "stream",
     "text": [
      "**** Relatorio de produção ****\n",
      "O numero de kwat produzidas foi de 3000\n",
      "O numero de tubaina produzidas foi de 4000\n",
      "O numero de guarana produzidas foi de 2000\n",
      "O numero de coca zero produzidas foi de 3000\n",
      "O numero de guarana zero produzidas foi de 4000\n",
      "O numero de cerveja produzidas foi de 800\n",
      "O numero de cerveja sem alcool produzidas foi de 20000\n",
      "O numero de vinho produzidas foi de 2000\n",
      "O numero de whisky produzidas foi de 1000\n",
      "O numero de redbull produzidas foi de 4000\n",
      "*** FIM DO RELATÓRIO ***\n"
     ]
    }
   ],
   "source": [
    "# Não dá mais pra ficar inserindo a linha a linha, vamos usar o FOR PARA ITERAR A LISTA!!\n",
    "\n",
    "# imagine aqui um codigo python importanto os dados de um banco  de dados SQL e colocando numa lista\n",
    "\n",
    "produtos = [ \"kwat\", \"tubaina\" , \"guarana\", \"coca zero\", \"guarana zero\", \"cerveja\", \"cerveja sem alcool\", \"vinho\", \"whisky\", \"redbull\"]\n",
    "producao = [3000,4000,2000,3000,4000,800,20000, 2000, 1000, 4000]\n",
    "\n",
    "print(\"**** Relatorio de produção ****\")\n",
    "\n",
    "for i in range(len(produtos)): \n",
    "    print(\"O numero de {} produzidas foi de {}\".format(produtos[i],producao[i]))\n",
    "\n",
    "print(\"*** FIM DO RELATÓRIO ***\")\n",
    "\n"
   ]
  },
  {
   "cell_type": "code",
   "execution_count": 39,
   "id": "f5ddf574-43ab-40c9-8104-495f0ae66dff",
   "metadata": {},
   "outputs": [
    {
     "name": "stdout",
     "output_type": "stream",
     "text": [
      "**** Relatorio de produção ****\n",
      "O numero de kwat produzidas \n",
      "O numero de tubaina produzidas \n",
      "O numero de guarana produzidas \n",
      "O numero de coca zero produzidas \n",
      "O numero de guarana zero produzidas \n",
      "O numero de cerveja produzidas \n",
      "O numero de cerveja sem alcool produzidas \n",
      "O numero de vinho produzidas \n",
      "O numero de whisky produzidas \n",
      "O numero de redbull produzidas \n",
      "*** FIM DO RELATÓRIO ***\n"
     ]
    }
   ],
   "source": [
    "# agora vamos fazer sem o range, usando a funcionalidade do python de iterar itens da lista\n",
    "\n",
    "# imagine aqui um codigo python importanto os dados de um banco  de dados SQL e colocando numa lista\n",
    "\n",
    "produtos = [ \"kwat\", \"tubaina\" , \"guarana\", \"coca zero\", \"guarana zero\", \"cerveja\", \"cerveja sem alcool\", \"vinho\", \"whisky\", \"redbull\"]\n",
    "\n",
    "print(\"**** Relatorio de produção ****\")\n",
    "\n",
    "for produto in produtos: \n",
    "    print(\"O numero de {} produzidas \".format(produto))\n",
    "\n",
    "print(\"*** FIM DO RELATÓRIO ***\")\n"
   ]
  },
  {
   "cell_type": "code",
   "execution_count": 41,
   "id": "55dd5639-ad1e-43e1-9812-73e4db531555",
   "metadata": {},
   "outputs": [
    {
     "name": "stdout",
     "output_type": "stream",
     "text": [
      "venda 1000\n",
      "venda 1200\n",
      "venda 3000\n",
      "parabens, bateu a meta!\n",
      "venda 2000\n",
      "venda 7000\n",
      "parabens, bateu a meta!\n",
      "venda 10000\n",
      "parabens, bateu a meta!\n"
     ]
    }
   ],
   "source": [
    "vendas = [1000,1200,3000,2000,7000,10000]\n",
    "\n",
    "meta = 2500\n",
    "\n",
    "for venda in vendas:\n",
    "    print (\"venda {}\".format(venda))  #isso aqui vai imprimir sempre\n",
    "    if(venda >= meta):\n",
    "        print(\"parabens, bateu a meta!\") #só vai imprimir se for >= meta\n",
    "        \n",
    "    \n",
    "\n"
   ]
  },
  {
   "cell_type": "code",
   "execution_count": 44,
   "id": "dee1adcf-e5fb-4d36-88a5-d99276fcc4f6",
   "metadata": {},
   "outputs": [
    {
     "name": "stdout",
     "output_type": "stream",
     "text": [
      "**** Relatorio de produção ****\n",
      "O numero de kwat produzidas foi de 3000\n",
      "O numero de tubaina produzidas foi de 4000\n",
      "O numero de guarana produzidas foi de 2000\n",
      "O numero de coca zero produzidas foi de 3000\n",
      "O numero de guarana zero produzidas foi de 4000\n",
      "O numero de cerveja produzidas foi de 800\n",
      "O numero de cerveja sem alcool produzidas foi de 20000\n",
      "O numero de vinho produzidas foi de 2000\n",
      "O numero de whisky produzidas foi de 1000\n",
      "O numero de redbull produzidas foi de 4000\n",
      "*** FIM DO RELATÓRIO ***\n"
     ]
    }
   ],
   "source": [
    "# agora vamos fazer sem o range, usando a funcionalidade do python de iterar itens da lista\n",
    "\n",
    "# imagine aqui um codigo python importanto os dados de um banco  de dados SQL e colocando numa lista\n",
    "\n",
    "produtos = [ \"kwat\", \"tubaina\" , \"guarana\", \"coca zero\", \"guarana zero\", \"cerveja\", \"cerveja sem alcool\", \"vinho\", \"whisky\", \"redbull\"]\n",
    "\n",
    "print(\"**** Relatorio de produção ****\")\n",
    "\n",
    "for produto in produtos:  # iteração em itens de uma lista\n",
    "    indice = produtos.index(produto)  # recuperando o indice do item para consultar outra lista\n",
    "    print(\"O numero de {} produzidas foi de {}\".format(produto , producao[indice])) #utilizando o indice\n",
    "\n",
    "print(\"*** FIM DO RELATÓRIO ***\")"
   ]
  },
  {
   "cell_type": "code",
   "execution_count": 46,
   "id": "156984fb-2079-4a2c-be04-2007873b7732",
   "metadata": {},
   "outputs": [
    {
     "name": "stdout",
     "output_type": "stream",
     "text": [
      "**** Relatorio de produção ****\n",
      "O numero de kwat produzidas foi de 3000\n",
      "O numero de tubaina produzidas foi de 4000\n",
      "O numero de guarana produzidas foi de 2000\n",
      "O numero de coca zero produzidas foi de 3000\n",
      "O numero de guarana zero produzidas foi de 4000\n",
      "O numero de cerveja produzidas foi de 800\n",
      "O numero de cerveja sem alcool produzidas foi de 20000\n",
      "O numero de vinho produzidas foi de 2000\n",
      "O numero de whisky produzidas foi de 1000\n",
      "O numero de redbull produzidas foi de 4000\n",
      "*** FIM DO RELATÓRIO ***\n"
     ]
    }
   ],
   "source": [
    "# agora vamos fazer sem o range, usando a funcionalidade do python de iterar itens da lista\n",
    "\n",
    "# imagine aqui um codigo python importanto os dados de um banco  de dados SQL e colocando numa lista\n",
    "\n",
    "produtos = [ \"kwat\", \"tubaina\" , \"guarana\", \"coca zero\", \"guarana zero\", \"cerveja\", \"cerveja sem alcool\", \"vinho\", \"whisky\", \"redbull\"]\n",
    "\n",
    "print(\"**** Relatorio de produção ****\")\n",
    "\n",
    "for indice, produto in enumerate(produtos):  # iteração em itens de uma lista   \n",
    "    print(\"O numero de {} produzidas foi de {}\".format(produto , producao[indice])) #utilizando o indice\n",
    "\n",
    "print(\"*** FIM DO RELATÓRIO ***\")"
   ]
  },
  {
   "cell_type": "code",
   "execution_count": 53,
   "id": "25413851-539a-435e-aa2a-f9f364f22be7",
   "metadata": {},
   "outputs": [
    {
     "name": "stdout",
     "output_type": "stream",
     "text": [
      "a fruta do indice 0 é banana e o preço é 5\n",
      "a fruta do indice 1 é pera e o preço é 9\n",
      "a fruta do indice 2 é uva e o preço é 2\n"
     ]
    }
   ],
   "source": [
    "frutas = [\"banana\", \"pera\", \"uva\"]\n",
    "precos = [5, 9, 2 ]\n",
    "\n",
    "#o enumerate vai trazer DUAS informações: o indice e o valor daquele item que está iterando\n",
    "for indice, fruta in enumerate(frutas):\n",
    "    print(\"a fruta do indice {} é {} e o preço é {}\".format( indice , fruta , precos[indice]))\n",
    "          \n",
    "\n"
   ]
  },
  {
   "cell_type": "code",
   "execution_count": 54,
   "id": "d8757fb0-538f-4693-b4bc-83503ce184d7",
   "metadata": {},
   "outputs": [
    {
     "name": "stdout",
     "output_type": "stream",
     "text": [
      "40\n"
     ]
    }
   ],
   "source": [
    "vendas = 40\n",
    "print(vendas)"
   ]
  },
  {
   "cell_type": "code",
   "execution_count": 61,
   "id": "54037310-42b5-4521-a9f2-9383bc4c41da",
   "metadata": {},
   "outputs": [
    {
     "name": "stdout",
     "output_type": "stream",
     "text": [
      "79\n"
     ]
    }
   ],
   "source": [
    "vendas = vendas + 1\n",
    "print(vendas)"
   ]
  },
  {
   "cell_type": "code",
   "execution_count": 64,
   "id": "041cf767-d05d-4787-b2f9-2ae3f5037a64",
   "metadata": {},
   "outputs": [
    {
     "name": "stdout",
     "output_type": "stream",
     "text": [
      "30\n"
     ]
    }
   ],
   "source": [
    "vendas -= 11\n",
    "print(vendas)"
   ]
  },
  {
   "cell_type": "code",
   "execution_count": 65,
   "id": "341d243d-5e3e-422a-8c38-a2982a51d440",
   "metadata": {},
   "outputs": [
    {
     "name": "stdout",
     "output_type": "stream",
     "text": [
      "10\n",
      "20\n",
      "30\n",
      "bateu a meta\n",
      "40\n",
      "bateu a meta\n",
      "10\n",
      "2  vendedores bateram a meta\n"
     ]
    }
   ],
   "source": [
    "vendas = [10,20,30,40,10]\n",
    "meta = 25\n",
    "bateram_meta = 0\n",
    "\n",
    "for venda in vendas:\n",
    "    print(venda)\n",
    "    if venda >= meta:\n",
    "        print(\"bateu a meta\")\n",
    "        bateram_meta += 1\n",
    "\n",
    "print(bateram_meta , \" vendedores bateram a meta\")\n",
    "\n"
   ]
  },
  {
   "cell_type": "code",
   "execution_count": 67,
   "id": "bcf57e64-42b3-4ea5-a768-8acb1fc1015c",
   "metadata": {},
   "outputs": [
    {
     "name": "stdout",
     "output_type": "stream",
     "text": [
      "maca\n",
      "banana\n",
      "pera\n",
      "uva\n",
      "iphone\n",
      "tv\n",
      "controle\n",
      "mouse\n"
     ]
    }
   ],
   "source": [
    "# for dentro do for\n",
    "\n",
    "estoque = [ ['maca','banana','pera','uva'] , ['iphone','tv','controle','mouse'] ]\n",
    "\n",
    "for lista in estoque:\n",
    "    for item in lista:\n",
    "        print(item)\n"
   ]
  },
  {
   "cell_type": "code",
   "execution_count": null,
   "id": "01815120-45ed-45bd-8dda-68c6b83b0c81",
   "metadata": {},
   "outputs": [],
   "source": []
  }
 ],
 "metadata": {
  "kernelspec": {
   "display_name": "Python 3 (ipykernel)",
   "language": "python",
   "name": "python3"
  },
  "language_info": {
   "codemirror_mode": {
    "name": "ipython",
    "version": 3
   },
   "file_extension": ".py",
   "mimetype": "text/x-python",
   "name": "python",
   "nbconvert_exporter": "python",
   "pygments_lexer": "ipython3",
   "version": "3.11.7"
  }
 },
 "nbformat": 4,
 "nbformat_minor": 5
}
