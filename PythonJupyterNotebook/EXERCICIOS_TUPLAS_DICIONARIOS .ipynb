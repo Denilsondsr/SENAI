{
 "cells": [
  {
   "cell_type": "markdown",
   "id": "034c3268",
   "metadata": {
    "id": "034c3268"
   },
   "source": [
    "# Exercícios de Tuplas e Dicionários"
   ]
  },
  {
   "cell_type": "markdown",
   "id": "9462a75f",
   "metadata": {
    "id": "9462a75f"
   },
   "source": [
    "## Esses exercícios ajudarão você a praticar o uso de dicionários em diferentes contextos e situações. Experimente resolver cada um deles para aprimorar suas habilidades em manipulação de dicionários em Python."
   ]
  },
  {
   "cell_type": "markdown",
   "id": "e3f282f3",
   "metadata": {
    "id": "e3f282f3"
   },
   "source": [
    "# Tuplas"
   ]
  },
  {
   "cell_type": "markdown",
   "id": "d4df6ccb",
   "metadata": {},
   "source": [
    "### 1. Análise de Vendas\n",
    "\n",
    "Nesse exercício vamos fazer uma \"análise simples\" de atingimento de Meta. Utilize o laço for\n",
    "\n",
    "Temos uma lista com os vendedores e os valores de vendas e queremos identificar (printar) quais os vendedores que bateram a meta e qual foi o valor que eles venderam."
   ]
  },
  {
   "cell_type": "code",
   "execution_count": 46,
   "id": "271563ec",
   "metadata": {},
   "outputs": [
    {
     "name": "stdout",
     "output_type": "stream",
     "text": [
      "('João', 15000)\n",
      "('Julia', 27000)\n",
      "('Ana', 10300)\n",
      "João Bateu a meta, vendeu 15000 unidades.\n",
      "Julia Bateu a meta, vendeu 27000 unidades.\n",
      "Ana Bateu a meta, vendeu 10300 unidades.\n"
     ]
    }
   ],
   "source": [
    "meta = 10000\n",
    "vendas = [\n",
    "    ('João', 15000),\n",
    "    ('Julia', 27000),\n",
    "    ('Marcus', 9900),\n",
    "    ('Maria', 3750),\n",
    "    ('Ana', 10300),\n",
    "    ('Alon', 7870),\n",
    "]\n",
    "\n",
    "for venda in vendas:\n",
    "    nome,valor = venda\n",
    "    if valor >= meta:\n",
    "        print(venda)\n",
    "\n",
    "for vendedor, qtdd in vendas:\n",
    "    if qtdd >= meta:\n",
    "        print(\"{} Bateu a meta, vendeu {} unidades.\".format(vendedor,qtdd))\n",
    "    \n"
   ]
  },
  {
   "cell_type": "markdown",
   "id": "77ce3a26",
   "metadata": {},
   "source": [
    "### 2. Comparação com Ano Anterior\n",
    "\n",
    "Digamos que você está analisando as vendas de produtos de um ecommerce e quer identificar quais produtos tiveram no ano de 2020 mais vendas do que no ano de 2019, para reportar isso para a diretoria.\n",
    "\n",
    "Sua resposta pode ser um print de cada produto, qual foi a venda de 2019, a venda de 2020 e o % de crescimento de 2020 para 2019.\n",
    "\n",
    "Lembrando, para calcular o % de crescimento de um produto de um ano para o outro, podemos fazer: (vendas_produto2020/vendas_produto2019 - 1)\n",
    "\n",
    "A lógica da tupla é: (produto, vendas2019, vendas2020). Utilize o laço FOR"
   ]
  },
  {
   "cell_type": "code",
   "execution_count": 48,
   "id": "198167dc",
   "metadata": {},
   "outputs": [
    {
     "name": "stdout",
     "output_type": "stream",
     "text": [
      "O produto: iphone\n",
      "Vendeu em 2029: 558147\n",
      "Vendeu em 2020: 951642\n",
      "A porcentagem é: 70.5%\n",
      "\n",
      "O produto: galaxy\n",
      "Vendeu em 2029: 712350\n",
      "Vendeu em 2020: 244295\n",
      "A porcentagem é: -65.7%\n",
      "\n",
      "O produto: ipad\n",
      "Vendeu em 2029: 573823\n",
      "Vendeu em 2020: 26964\n",
      "A porcentagem é: -95.3%\n",
      "\n",
      "O produto: tv\n",
      "Vendeu em 2029: 405252\n",
      "Vendeu em 2020: 787604\n",
      "A porcentagem é: 94.3%\n",
      "\n",
      "O produto: máquina de café\n",
      "Vendeu em 2029: 718654\n",
      "Vendeu em 2020: 867660\n",
      "A porcentagem é: 20.7%\n",
      "\n",
      "O produto: kindle\n",
      "Vendeu em 2029: 531580\n",
      "Vendeu em 2020: 78830\n",
      "A porcentagem é: -85.2%\n",
      "\n",
      "O produto: geladeira\n",
      "Vendeu em 2029: 973139\n",
      "Vendeu em 2020: 710331\n",
      "A porcentagem é: -27.0%\n",
      "\n",
      "O produto: adega\n",
      "Vendeu em 2029: 892292\n",
      "Vendeu em 2020: 646016\n",
      "A porcentagem é: -27.6%\n",
      "\n",
      "O produto: notebook dell\n",
      "Vendeu em 2029: 422760\n",
      "Vendeu em 2020: 694913\n",
      "A porcentagem é: 64.4%\n",
      "\n",
      "O produto: notebook hp\n",
      "Vendeu em 2029: 154753\n",
      "Vendeu em 2020: 539704\n",
      "A porcentagem é: 248.8%\n",
      "\n",
      "O produto: notebook asus\n",
      "Vendeu em 2029: 887061\n",
      "Vendeu em 2020: 324831\n",
      "A porcentagem é: -63.4%\n",
      "\n",
      "O produto: microsoft surface\n",
      "Vendeu em 2029: 438508\n",
      "Vendeu em 2020: 667179\n",
      "A porcentagem é: 52.1%\n",
      "\n",
      "O produto: webcam\n",
      "Vendeu em 2029: 237467\n",
      "Vendeu em 2020: 295633\n",
      "A porcentagem é: 24.5%\n",
      "\n",
      "O produto: caixa de som\n",
      "Vendeu em 2029: 489705\n",
      "Vendeu em 2020: 725316\n",
      "A porcentagem é: 48.1%\n",
      "\n",
      "O produto: microfone\n",
      "Vendeu em 2029: 328311\n",
      "Vendeu em 2020: 644622\n",
      "A porcentagem é: 96.3%\n",
      "\n",
      "O produto: câmera canon\n",
      "Vendeu em 2029: 591120\n",
      "Vendeu em 2020: 994303\n",
      "A porcentagem é: 68.2%\n",
      "\n",
      "O produto: iphone teve um acrescimo de vendas em 70.5%\n",
      "O produto: tv teve um acrescimo de vendas em 94.3%\n",
      "O produto: máquina de café teve um acrescimo de vendas em 20.7%\n",
      "O produto: notebook dell teve um acrescimo de vendas em 64.4%\n",
      "O produto: notebook hp teve um acrescimo de vendas em 248.8%\n",
      "O produto: microsoft surface teve um acrescimo de vendas em 52.1%\n",
      "O produto: webcam teve um acrescimo de vendas em 24.5%\n",
      "O produto: caixa de som teve um acrescimo de vendas em 48.1%\n",
      "O produto: microfone teve um acrescimo de vendas em 96.3%\n",
      "O produto: câmera canon teve um acrescimo de vendas em 68.2%\n"
     ]
    }
   ],
   "source": [
    "vendas_produtos = [\n",
    "    ('iphone', 558147, 951642),\n",
    "    ('galaxy', 712350, 244295),\n",
    "    ('ipad', 573823, 26964),\n",
    "    ('tv', 405252, 787604),\n",
    "    ('máquina de café', 718654, 867660),\n",
    "    ('kindle', 531580, 78830),\n",
    "    ('geladeira', 973139, 710331),\n",
    "    ('adega', 892292, 646016),\n",
    "    ('notebook dell', 422760, 694913),\n",
    "    ('notebook hp', 154753, 539704),\n",
    "    ('notebook asus', 887061, 324831),\n",
    "    ('microsoft surface', 438508, 667179),\n",
    "    ('webcam', 237467, 295633),\n",
    "    ('caixa de som', 489705, 725316),\n",
    "    ('microfone', 328311, 644622),\n",
    "    ('câmera canon', 591120, 994303)\n",
    "    ]\n",
    "\n",
    "for produto in vendas_produtos:\n",
    "    prod, vendas2019, vendas2020 = produto\n",
    "    calculo = vendas2020/vendas2019 - 1\n",
    "    print(\"O produto: {}\\nVendeu em 2029: {}\\nVendeu em 2020: {}\\nA porcentagem é: {:.1%}\\n\".format(prod,vendas2019,vendas2020,calculo))\n",
    "\n",
    "for produto, vendas2019, vendas2020 in vendas_produtos:\n",
    "    if vendas2020 > vendas2019:\n",
    "        porcentagem = vendas2020/vendas2019 - 1\n",
    "        print(\"O produto: {} teve um acrescimo de vendas em {:.1%}\".format(produto,porcentagem))\n",
    "     "
   ]
  },
  {
   "cell_type": "markdown",
   "id": "ff445a2c",
   "metadata": {},
   "source": [
    "# Dicionários"
   ]
  },
  {
   "cell_type": "markdown",
   "id": "d1f51997",
   "metadata": {},
   "source": [
    "### Exercício 1: Contagem de Palavras\n",
    "### Crie uma função que recebe uma string como entrada e retorna um dicionário onde as chaves são as palavras da string e os valores são a contagem de vezes que cada palavra aparece."
   ]
  },
  {
   "cell_type": "code",
   "execution_count": 32,
   "id": "ab3170ed",
   "metadata": {
    "colab": {
     "base_uri": "https://localhost:8080/"
    },
    "executionInfo": {
     "elapsed": 262,
     "status": "ok",
     "timestamp": 1711207210214,
     "user": {
      "displayName": "Anderson Fontes",
      "userId": "11387347798778007297"
     },
     "user_tz": 180
    },
    "id": "ab3170ed",
    "outputId": "d2adc8d1-8597-4b1f-dab4-ffb9b923a61a"
   },
   "outputs": [
    {
     "name": "stdout",
     "output_type": "stream",
     "text": [
      "Digite uma frase:\n",
      "aa aa aa aa aa aa\n",
      "{'aa': 6}\n"
     ]
    }
   ],
   "source": [
    "texto = input(\"Digite uma frase:\\n\")\n",
    "dicionario = {}\n",
    "\n",
    "listaPalavra = texto.split(' ')\n",
    "for palavra in listaPalavra:\n",
    "    dicionario.update({palavra : listaPalavra.count(palavra)})\n",
    "\n",
    "print(dicionario)\n",
    "    \n",
    "\n"
   ]
  },
  {
   "cell_type": "markdown",
   "id": "5b40904b",
   "metadata": {
    "id": "5b40904b"
   },
   "source": [
    "### Exercício 3: Tradutor Simples\n",
    "### Crie um dicionário que mapeie algumas palavras em inglês para suas traduções em outro idioma. Peça ao usuário para digitar uma palavra em inglês e exiba a tradução correspondente."
   ]
  },
  {
   "cell_type": "code",
   "execution_count": 49,
   "id": "ed44bf36",
   "metadata": {
    "colab": {
     "base_uri": "https://localhost:8080/"
    },
    "executionInfo": {
     "elapsed": 8000,
     "status": "ok",
     "timestamp": 1711209319625,
     "user": {
      "displayName": "Anderson Fontes",
      "userId": "11387347798778007297"
     },
     "user_tz": 180
    },
    "id": "ed44bf36",
    "outputId": "2d00ca47-278b-46b6-8915-7f045896b606"
   },
   "outputs": [
    {
     "name": "stdout",
     "output_type": "stream",
     "text": [
      "Digite para traduzir:\n",
      "hello\n",
      "olá\n",
      "A tradução é: olá\n"
     ]
    }
   ],
   "source": [
    "traducoes = {\n",
    "    'hello': 'olá',\n",
    "    'world': 'mundo',\n",
    "    'python': 'python',\n",
    "    'get'   : 'pegar',\n",
    "}\n",
    "palavra = input(\"Digite para traduzir:\\n\")\n",
    "conferirExistencia = traducoes.get(palavra)\n",
    "if conferirExistencia:\n",
    "    print(traducoes.get(palavra))\n",
    "else:\n",
    "    print(\"Não encontrado\")\n",
    "    \n",
    "# Muito mais fácil\n",
    "tracucao = traducoes.get(palavra,\"Palavra não encontrada.\")\n",
    "print(\"A tradução é: {}\".format(tracucao))\n"
   ]
  },
  {
   "cell_type": "markdown",
   "id": "6a39edfe",
   "metadata": {
    "id": "6a39edfe"
   },
   "source": [
    "### Exercício 4: Estoque de Produtos\n",
    "### Crie um programa que simule o controle de estoque de uma loja. Use um dicionário onde as chaves são os nomes dos produtos e os valores são as quantidades em estoque. Permita que o usuário adicione ou remova produtos e atualize as quantidades."
   ]
  },
  {
   "cell_type": "code",
   "execution_count": 53,
   "id": "0660a8ba",
   "metadata": {
    "id": "0660a8ba"
   },
   "outputs": [
    {
     "name": "stdout",
     "output_type": "stream",
     "text": [
      "Digite o produto para ser cadastrado:\n",
      "ca\n",
      "Digite a quantidade do produto ca:\n",
      "10\n",
      "{'ca': '10'}\n"
     ]
    }
   ],
   "source": [
    "estoque = {}\n",
    "\n",
    "nomeProd = input(\"Digite o produto para ser cadastrado:\\n\")\n",
    "qtddProd = input(\"Digite a quantidade do produto {}:\\n\".format(nomeProd))\n",
    "\n",
    "estoque[nomeProd] = qtddProd\n",
    "\n",
    "print(estoque)"
   ]
  }
 ],
 "metadata": {
  "colab": {
   "provenance": []
  },
  "kernelspec": {
   "display_name": "Python 3 (ipykernel)",
   "language": "python",
   "name": "python3"
  },
  "language_info": {
   "codemirror_mode": {
    "name": "ipython",
    "version": 3
   },
   "file_extension": ".py",
   "mimetype": "text/x-python",
   "name": "python",
   "nbconvert_exporter": "python",
   "pygments_lexer": "ipython3",
   "version": "3.12.3"
  }
 },
 "nbformat": 4,
 "nbformat_minor": 5
}
