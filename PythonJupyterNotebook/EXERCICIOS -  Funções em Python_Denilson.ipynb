{
 "cells": [
  {
   "cell_type": "markdown",
   "id": "be654c47",
   "metadata": {
    "id": "be654c47"
   },
   "source": [
    "# Exercícios de Introdução às Funções em Python"
   ]
  },
  {
   "cell_type": "markdown",
   "id": "2551625e",
   "metadata": {
    "id": "2551625e"
   },
   "source": [
    "## Introdução ao uso de funções em Python. Funções são blocos de código que nos permitem organizar e reutilizar tarefas em nossos programas. Elas são uma parte fundamental da programação e nos ajudam a escrever código mais limpo, eficiente e modular.\n",
    "\n",
    "## Para praticar o que aprendemos, temos uma série de exercícios que envolvem o uso de funções básicas para realizar cálculos simples. Vocês deverão criar funções que resolvam os problemas propostos. Lembre-se de usar nomes significativos para suas funções e variáveis, para que o código seja claro e compreensível."
   ]
  },
  {
   "cell_type": "markdown",
   "id": "08f7146e",
   "metadata": {
    "id": "08f7146e"
   },
   "source": [
    "## Exercício 1: Calcular a área de um retângulo\n",
    "### Situação Problema: Você está construindo um jardim retangular em sua casa. A largura do jardim é 5 metros e o comprimento é 8 metros. Qual é a área total do jardim?"
   ]
  },
  {
   "cell_type": "code",
   "execution_count": 9,
   "id": "ae5991fe",
   "metadata": {
    "id": "ae5991fe"
   },
   "outputs": [
    {
     "name": "stdout",
     "output_type": "stream",
     "text": [
      "Digite o comprimento:\n",
      "10\n",
      "Digite a largura:\n",
      "10\n",
      "A area é 100.0\n"
     ]
    }
   ],
   "source": [
    "#seu codigo aqui!\n",
    "def area(comprimento, largura):\n",
    "    result = comprimento*largura\n",
    "    return result\n",
    "\n",
    "comprimento = float(input(\"Digite o comprimento:\\n\"))\n",
    "largura = float(input(\"Digite a largura:\\n\"))\n",
    "\n",
    "print(\"A area é {}\".format(area(comprimento, largura)))"
   ]
  },
  {
   "cell_type": "markdown",
   "id": "97281d1e",
   "metadata": {
    "id": "97281d1e"
   },
   "source": [
    "## Exercício 2: Converter Celsius para Fahrenheit\n",
    "### Situação Problema: Você está em um país onde a temperatura é medida em Fahrenheit. A temperatura atual é 25 graus Celsius. Qual é a temperatura equivalente em Fahrenheit?"
   ]
  },
  {
   "cell_type": "code",
   "execution_count": 17,
   "id": "542fb22f",
   "metadata": {
    "id": "542fb22f"
   },
   "outputs": [
    {
     "name": "stdout",
     "output_type": "stream",
     "text": [
      "Digite graus em Celsius:\n",
      "25\n",
      "A temperatura 25.0 em Celsius é 77.0 Fahrenheit\n"
     ]
    }
   ],
   "source": [
    "#seu codigo aqui!\n",
    "\n",
    "def conversao(tempF):\n",
    "    return tempF*(9/5)+32\n",
    "\n",
    "temp = float(input(\"Digite graus em Celsius:\\n\"))\n",
    "\n",
    "print(\"A temperatura {} em Celsius é {} Fahrenheit\".format(temp,conversao(temp)))\n"
   ]
  },
  {
   "cell_type": "markdown",
   "id": "2482556d",
   "metadata": {
    "id": "2482556d"
   },
   "source": [
    "## Exercício 3: Calcular o perímetro de um quadrado\n",
    "### Situação Problema: Você está construindo um tapete quadrado para a sala de estar. Cada lado do tapete mede 3 metros. Qual é o perímetro total do tapete?"
   ]
  },
  {
   "cell_type": "code",
   "execution_count": 18,
   "id": "8663622b",
   "metadata": {
    "id": "8663622b"
   },
   "outputs": [
    {
     "name": "stdout",
     "output_type": "stream",
     "text": [
      "Digite o tamanho de um lado do quadrado:\n",
      "3\n",
      "O perimetro deste quadrado é12.0\n"
     ]
    }
   ],
   "source": [
    "#seu codigo aqui!\n",
    "\n",
    "def calcularPerimetro(tamanho):\n",
    "    return tamanho * 4\n",
    "\n",
    "tamanhoMetros = float(input(\"Digite o tamanho de um lado do quadrado:\\n\"))\n",
    "resultado = calcularPerimetro(tamanhoMetros)\n",
    "print(\"O perimetro deste quadrado é:\\n{}\".format(resultado))\n"
   ]
  },
  {
   "cell_type": "markdown",
   "id": "6566c32d",
   "metadata": {
    "id": "6566c32d"
   },
   "source": [
    "## Exercício 4: Calcular a média ponderada de três notas\n",
    "### Situação Problema: Você está estudando para três disciplinas diferentes. Suas notas são: 7.0 em Matemática, 8.5 em Ciências e 9.5 em História. Se a Matemática tem peso 2, Ciências tem peso 3 e História tem peso 5, qual é a sua média ponderada?\n",
    "\n"
   ]
  },
  {
   "cell_type": "code",
   "execution_count": 19,
   "id": "47ffec72",
   "metadata": {
    "id": "47ffec72"
   },
   "outputs": [
    {
     "name": "stdout",
     "output_type": "stream",
     "text": [
      "Digite a nota de Matematica:\n",
      "10\n",
      "Digite a nota de Ciência:\n",
      "10\n",
      "Digite a nota de História:\n",
      "10\n",
      "A média do aluno é:33.333333333333336\n"
     ]
    }
   ],
   "source": [
    "#seu codigo aqui!\n",
    "\n",
    "def mediaPonderada(notaMat, notaCien, notaHist):\n",
    "    calculo = ((notaMat*2)+(notaCien*3)+(notaHist*5))/3\n",
    "    return calculo\n",
    "\n",
    "notaMat = float(input(\"Digite a nota de Matematica:\\n\"))\n",
    "notaCien = float(input(\"Digite a nota de Ciência:\\n\"))\n",
    "notaHist = float(input(\"Digite a nota de História:\\n\"))\n",
    "\n",
    "media = mediaPonderada(notaMat,notaCien, notaHist)\n",
    "\n",
    "print(\"A média do aluno é:{}\".format(media))\n",
    "\n"
   ]
  },
  {
   "cell_type": "markdown",
   "id": "5cd84c49",
   "metadata": {
    "id": "5cd84c49"
   },
   "source": [
    "## Exercício 5: Converter quilômetros para milhas\n",
    "### Situação Problema: Você está planejando uma viagem de carro. O percurso tem 200 quilômetros de extensão. Qual é a distância equivalente em milhas?\n",
    "\n",
    "\n",
    "\n",
    "\n"
   ]
  },
  {
   "cell_type": "code",
   "execution_count": 1,
   "id": "63d8b4bf",
   "metadata": {
    "id": "63d8b4bf"
   },
   "outputs": [
    {
     "name": "stdout",
     "output_type": "stream",
     "text": [
      "124.30\n"
     ]
    }
   ],
   "source": [
    "#seu codigo aqui!\n",
    "\n",
    "converterDist = lambda km : km/1.609\n",
    "\n",
    "resultado = converterDist(200)\n",
    "\n",
    "print(\"{:.2f}\".format(resultado))\n"
   ]
  }
 ],
 "metadata": {
  "colab": {
   "provenance": []
  },
  "kernelspec": {
   "display_name": "Python 3 (ipykernel)",
   "language": "python",
   "name": "python3"
  },
  "language_info": {
   "codemirror_mode": {
    "name": "ipython",
    "version": 3
   },
   "file_extension": ".py",
   "mimetype": "text/x-python",
   "name": "python",
   "nbconvert_exporter": "python",
   "pygments_lexer": "ipython3",
   "version": "3.12.3"
  }
 },
 "nbformat": 4,
 "nbformat_minor": 5
}
