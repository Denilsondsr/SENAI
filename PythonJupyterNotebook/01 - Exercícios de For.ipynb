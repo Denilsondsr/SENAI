{
 "cells": [
  {
   "cell_type": "markdown",
   "metadata": {
    "id": "F1Ik5NeluJQT"
   },
   "source": [
    "# Exercícios\n",
    "\n",
    "## 1. Criando um Registro de Hóspedes\n",
    "\n",
    "Digamos que você está criando o sistema para registrar a chegada de hóspedes em um hotel. No hotel, os hóspedes podem ter quartos com 1, 2, 3 e 4 pessoas. Seu sistema deve conseguir:\n",
    "\n",
    "1. Identificar quantas pessoas o hóspede que acabou de chegar vai ter no quarto (perguntando por meio de input)\n",
    "2. De acordo com a quantidade de pessoas do hóspede, ele deve fazer um for para perguntar o cpf e o nome de cada pessoa, a fim de registrá-la no quarto (2 inputs para cada pessoa, 1 para o cpf e outro para o nome)\n",
    "3. O seu programa então deve gerar uma lista com todas as pessoas que ficarão no quarto em que cada item dessa lista é o nome da pessoa e o cpf da pessoa, assim:"
   ]
  },
  {
   "cell_type": "raw",
   "metadata": {
    "id": "uigr45bQuJQY"
   },
   "source": [
    "quarto = [\n",
    "    ['João', 'cpf:00000000000'],\n",
    "    ['Julia', 'cpf:11111111111'],\n",
    "    ['Marcus', 'cpf:22222222222'],\n",
    "    ['Maria', 'cpf:33333333333'],\n",
    "]"
   ]
  },
  {
   "cell_type": "markdown",
   "metadata": {
    "id": "D-wNECCEuJQZ"
   },
   "source": [
    "- Para simplificar, não vamos nos preocupar com possibilidades de \"tentar colocar mais de 1 hóspede, digitar o cpf errado, etc. Nosso objetivo é treinar a criação de uma rotina de cadastro"
   ]
  },
  {
   "cell_type": "code",
   "execution_count": 17,
   "metadata": {
    "id": "yr8t51J5uJQa"
   },
   "outputs": [
    {
     "name": "stdin",
     "output_type": "stream",
     "text": [
      "Diga quantas pessoas hospedarão no quarto:\n",
      " 2\n",
      "Digite o CPF da 1º pessoa:\n",
      " 654\n",
      "Digite o nome da 1º pessoas:\n",
      " SDZGBSF\n",
      "Digite o CPF da 2º pessoa:\n",
      " 6514\n",
      "Digite o nome da 2º pessoas:\n",
      " SDGSDA\n"
     ]
    },
    {
     "name": "stdout",
     "output_type": "stream",
     "text": [
      "\n",
      "Cadastro Realizado.!\n",
      "\n",
      "Estão hospedos no quartos as seguintes pessoas:\n",
      "\n",
      "CPF: 654, Nome: SDZGBSF\n",
      "CPF: 6514, Nome: SDGSDA\n"
     ]
    }
   ],
   "source": [
    "qtddPessoas = int(input(\"Diga quantas pessoas hospedarão no quarto:\\n\"))\n",
    "quartos = []\n",
    "\n",
    "for i in range(qtddPessoas):\n",
    "    cpf = input(\"Digite o CPF da {}º pessoa:\\n\".format(i+1))\n",
    "    nome = input(\"Digite o nome da {}º pessoas:\\n\" .format(i+1))\n",
    "    quartos.append([cpf, nome])\n",
    "print(\"\\nCadastro Realizado.!\\n\")\n",
    "\n",
    "print(\"Estão hospedos no quartos as seguintes pessoas:\\n\")\n",
    "for quarto in quartos:\n",
    "    print(\"CPF: {}, Nome: {}\".format(quarto[0], quarto[1]))\n",
    " "
   ]
  },
  {
   "cell_type": "markdown",
   "metadata": {
    "id": "ru8-Q84huJQb"
   },
   "source": [
    "## 2. Análise de Vendas\n",
    "\n",
    "Nesse exercício vamos fazer uma \"análise simples\" de atingimento de Meta.\n",
    "\n",
    "Temos uma lista com os vendedores e os valores de vendas e queremos identificar (printar) quais os vendedores que bateram a meta e qual foi o valor que eles venderam."
   ]
  },
  {
   "cell_type": "code",
   "execution_count": 27,
   "metadata": {
    "id": "k1nxy07JuJQc"
   },
   "outputs": [
    {
     "name": "stdout",
     "output_type": "stream",
     "text": [
      "Os vendendores que bateram a meta foram:\n",
      "\n",
      "Nome: João, Vendas: 15000\n",
      "Nome: Julia, Vendas: 27000\n",
      "Nome: Ana, Vendas: 10300\n"
     ]
    }
   ],
   "source": [
    "meta = 10000\n",
    "vendas = [\n",
    "    ['João', 15000],\n",
    "    ['Julia', 27000],\n",
    "    ['Marcus', 9900],\n",
    "    ['Maria', 3750],\n",
    "    ['Ana', 10300],\n",
    "    ['Alon', 7870],\n",
    "]\n",
    "\n",
    "print(\"Os vendendores que bateram a meta foram:\\n\")\n",
    "for venda in vendas:\n",
    "    if venda[1] >= meta:\n",
    "        print(\"Nome: {}, Vendas: {}\" .format(venda[0], venda[1]))"
   ]
  },
  {
   "cell_type": "markdown",
   "metadata": {
    "id": "uhaXC5nquJQd"
   },
   "source": [
    "## 3. Comparação com Ano Anterior\n",
    "\n",
    "Digamos que você está analisando as vendas de produtos de um ecommerce e quer identificar quais produtos tiveram no ano de 2020 mais vendas do que no ano de 2019, para reportar isso para a diretoria.\n",
    "\n",
    "Sua resposta pode ser um print de cada produto, qual foi a venda de 2019, a venda de 2020 e o % de crescimento de 2020 para 2019.\n",
    "\n",
    "Lembrando, para calcular o % de crescimento de um produto de um ano para o outro, podemos fazer: (vendas_produto2020/vendas_produto2019 - 1)\n",
    "\n",
    "Dica: lembre do enumerate, ele pode facilitar seu \"for\""
   ]
  },
  {
   "cell_type": "code",
   "execution_count": 53,
   "metadata": {
    "id": "MpFmwLlauJQd"
   },
   "outputs": [
    {
     "name": "stdout",
     "output_type": "stream",
     "text": [
      "0 é o produto iphone em 2020 vendeu 70.5% em relação a 2019\n",
      "1 é o produto galaxy em 2020 vendeu -65.7% em relação a 2019\n",
      "2 é o produto ipad em 2020 vendeu -95.3% em relação a 2019\n",
      "3 é o produto tv em 2020 vendeu 94.3% em relação a 2019\n",
      "4 é o produto máquina de café em 2020 vendeu 20.7% em relação a 2019\n",
      "5 é o produto kindle em 2020 vendeu -85.2% em relação a 2019\n",
      "6 é o produto geladeira em 2020 vendeu -27.0% em relação a 2019\n",
      "7 é o produto adega em 2020 vendeu -27.6% em relação a 2019\n",
      "8 é o produto notebook dell em 2020 vendeu 64.4% em relação a 2019\n",
      "9 é o produto notebook hp em 2020 vendeu 248.8% em relação a 2019\n",
      "10 é o produto notebook asus em 2020 vendeu -63.4% em relação a 2019\n",
      "11 é o produto microsoft surface em 2020 vendeu 52.1% em relação a 2019\n",
      "12 é o produto webcam em 2020 vendeu 24.5% em relação a 2019\n",
      "13 é o produto caixa de som em 2020 vendeu 48.1% em relação a 2019\n",
      "14 é o produto microfone em 2020 vendeu 96.3% em relação a 2019\n",
      "15 é o produto câmera canon em 2020 vendeu 68.2% em relação a 2019\n",
      "0 é o produto iphone em 2020 vendeu 70.5% em relação a 2019\n",
      "1 é o produto galaxy em 2020 vendeu -65.7% em relação a 2019\n",
      "2 é o produto ipad em 2020 vendeu -95.3% em relação a 2019\n",
      "3 é o produto tv em 2020 vendeu 94.3% em relação a 2019\n",
      "4 é o produto máquina de café em 2020 vendeu 20.7% em relação a 2019\n",
      "5 é o produto kindle em 2020 vendeu -85.2% em relação a 2019\n",
      "6 é o produto geladeira em 2020 vendeu -27.0% em relação a 2019\n",
      "7 é o produto adega em 2020 vendeu -27.6% em relação a 2019\n",
      "8 é o produto notebook dell em 2020 vendeu 64.4% em relação a 2019\n",
      "9 é o produto notebook hp em 2020 vendeu 248.8% em relação a 2019\n",
      "10 é o produto notebook asus em 2020 vendeu -63.4% em relação a 2019\n",
      "11 é o produto microsoft surface em 2020 vendeu 52.1% em relação a 2019\n",
      "12 é o produto webcam em 2020 vendeu 24.5% em relação a 2019\n",
      "13 é o produto caixa de som em 2020 vendeu 48.1% em relação a 2019\n",
      "14 é o produto microfone em 2020 vendeu 96.3% em relação a 2019\n",
      "15 é o produto câmera canon em 2020 vendeu 68.2% em relação a 2019\n"
     ]
    }
   ],
   "source": [
    "produtos = ['iphone', 'galaxy', 'ipad', 'tv', 'máquina de café', 'kindle', 'geladeira', 'adega', 'notebook dell', 'notebook hp', 'notebook asus', 'microsoft surface', 'webcam', 'caixa de som', 'microfone', 'câmera canon']\n",
    "vendas2019 = [558147,712350,573823,405252,718654,531580,973139,892292,422760,154753,887061,438508,237467,489705,328311,591120]\n",
    "vendas2020 = [951642,244295,26964,787604,867660,78830,710331,646016,694913,539704,324831,667179,295633,725316,644622,994303]\n",
    "\n",
    "for i, produto in enumerate(produtos):\n",
    "    vendasProdutos2020 = vendas2020[i]\n",
    "    vendasProdutos2019 = vendas2019[i]\n",
    "    print(\"{} é o produto {} em 2020 vendeu {:.1%} em relação a 2019\" .format(i,produto, vendasProdutos2020/vendasProdutos2019-1))\n",
    "\n",
    "for i, produto in enumerate(produtos):\n",
    "    vendasProdutos2020 = vendas2020[i]\n",
    "    vendasProdutos2019 = vendas2019[i]\n",
    "    diferenca = (vendasProdutos2020/vendasProdutos2019)-1\n",
    "    print(\"{} é o produto {} em 2020 vendeu {:.1%} em relação a 2019\" .format(i,produto, diferenca))"
   ]
  },
  {
   "cell_type": "code",
   "execution_count": null,
   "metadata": {},
   "outputs": [],
   "source": []
  }
 ],
 "metadata": {
  "colab": {
   "provenance": []
  },
  "kernelspec": {
   "display_name": "Python 3 (ipykernel)",
   "language": "python",
   "name": "python3"
  },
  "language_info": {
   "codemirror_mode": {
    "name": "ipython",
    "version": 3
   },
   "file_extension": ".py",
   "mimetype": "text/x-python",
   "name": "python",
   "nbconvert_exporter": "python",
   "pygments_lexer": "ipython3",
   "version": "3.12.3"
  }
 },
 "nbformat": 4,
 "nbformat_minor": 4
}
